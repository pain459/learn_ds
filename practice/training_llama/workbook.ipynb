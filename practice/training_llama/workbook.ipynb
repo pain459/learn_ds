{
 "cells": [
  {
   "cell_type": "code",
   "execution_count": 8,
   "metadata": {},
   "outputs": [],
   "source": [
    "import requests\n",
    "import fitz  # PyMuPDF\n",
    "from transformers import AutoTokenizer"
   ]
  },
  {
   "cell_type": "code",
   "execution_count": 9,
   "metadata": {},
   "outputs": [],
   "source": [
    "# Function to fetch and clean text from a Wikipedia page\n",
    "def fetch_wikipedia_page(page_title):\n",
    "    # Wikipedia API endpoint for page summary\n",
    "    url = f\"https://en.wikipedia.org/api/rest_v1/page/summary/{page_title}\"\n",
    "    response = requests.get(url)\n",
    "    if response.status_code == 200:\n",
    "        data = response.json()\n",
    "        return data.get(\"extract\", \"No content found.\")\n",
    "    else:\n",
    "        print(f\"Error fetching Wikipedia page: {response.status_code}\")\n",
    "        return None"
   ]
  },
  {
   "cell_type": "code",
   "execution_count": 10,
   "metadata": {},
   "outputs": [],
   "source": [
    "result = fetch_wikipedia_page(\"Visakhapatnam\")"
   ]
  },
  {
   "cell_type": "code",
   "execution_count": 11,
   "metadata": {},
   "outputs": [
    {
     "data": {
      "text/plain": [
       "\"Visakhapatnam is the largest and most populous metropolitan city in the Indian state of Andhra Pradesh. It is between the Eastern Ghats and the coast of the Bay of Bengal. It is the second largest city on the east coast of India after Chennai, and the fourth largest in South India. It is one of the four smart cities of Andhra Pradesh selected under the Smart Cities Mission and is the headquarters of Visakhapatnam district. With an estimated output of $43.5 billion, it is the ninth largest contributor to India's gross domestic product as of 2016.\""
      ]
     },
     "execution_count": 11,
     "metadata": {},
     "output_type": "execute_result"
    }
   ],
   "source": [
    "result"
   ]
  },
  {
   "cell_type": "code",
   "execution_count": null,
   "metadata": {},
   "outputs": [],
   "source": []
  }
 ],
 "metadata": {
  "kernelspec": {
   "display_name": ".venv",
   "language": "python",
   "name": "python3"
  },
  "language_info": {
   "codemirror_mode": {
    "name": "ipython",
    "version": 3
   },
   "file_extension": ".py",
   "mimetype": "text/x-python",
   "name": "python",
   "nbconvert_exporter": "python",
   "pygments_lexer": "ipython3",
   "version": "3.12.6"
  }
 },
 "nbformat": 4,
 "nbformat_minor": 2
}
