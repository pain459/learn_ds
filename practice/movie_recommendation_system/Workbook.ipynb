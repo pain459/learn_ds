{
 "cells": [
  {
   "cell_type": "code",
   "execution_count": 1,
   "metadata": {},
   "outputs": [
    {
     "name": "stdout",
     "output_type": "stream",
     "text": [
      "Requirement already satisfied: kagglehub in d:\\src_git\\learn_ds\\.venv\\lib\\site-packages (0.3.4)\n",
      "Requirement already satisfied: packaging in d:\\src_git\\learn_ds\\.venv\\lib\\site-packages (from kagglehub) (24.1)\n",
      "Requirement already satisfied: requests in d:\\src_git\\learn_ds\\.venv\\lib\\site-packages (from kagglehub) (2.32.3)\n",
      "Requirement already satisfied: tqdm in d:\\src_git\\learn_ds\\.venv\\lib\\site-packages (from kagglehub) (4.67.0)\n",
      "Requirement already satisfied: charset-normalizer<4,>=2 in d:\\src_git\\learn_ds\\.venv\\lib\\site-packages (from requests->kagglehub) (3.4.0)\n",
      "Requirement already satisfied: idna<4,>=2.5 in d:\\src_git\\learn_ds\\.venv\\lib\\site-packages (from requests->kagglehub) (3.10)\n",
      "Requirement already satisfied: urllib3<3,>=1.21.1 in d:\\src_git\\learn_ds\\.venv\\lib\\site-packages (from requests->kagglehub) (2.2.3)\n",
      "Requirement already satisfied: certifi>=2017.4.17 in d:\\src_git\\learn_ds\\.venv\\lib\\site-packages (from requests->kagglehub) (2024.8.30)\n",
      "Requirement already satisfied: colorama in d:\\src_git\\learn_ds\\.venv\\lib\\site-packages (from tqdm->kagglehub) (0.4.6)\n"
     ]
    }
   ],
   "source": [
    "!pip install kagglehub"
   ]
  },
  {
   "cell_type": "markdown",
   "metadata": {},
   "source": [
    "### Loading the dataset from kagglehub"
   ]
  },
  {
   "cell_type": "code",
   "execution_count": 2,
   "metadata": {},
   "outputs": [
    {
     "name": "stderr",
     "output_type": "stream",
     "text": [
      "d:\\src_git\\learn_ds\\.venv\\Lib\\site-packages\\tqdm\\auto.py:21: TqdmWarning: IProgress not found. Please update jupyter and ipywidgets. See https://ipywidgets.readthedocs.io/en/stable/user_install.html\n",
      "  from .autonotebook import tqdm as notebook_tqdm\n"
     ]
    },
    {
     "name": "stdout",
     "output_type": "stream",
     "text": [
      "Path to dataset files: C:\\Users\\kumar\\.cache\\kagglehub\\datasets\\grouplens\\movielens-20m-dataset\\versions\\1\n"
     ]
    }
   ],
   "source": [
    "import kagglehub\n",
    "\n",
    "# Download latest version\n",
    "path = kagglehub.dataset_download(\"grouplens/movielens-20m-dataset\")\n",
    "\n",
    "print(\"Path to dataset files:\", path)"
   ]
  },
  {
   "cell_type": "code",
   "execution_count": 3,
   "metadata": {},
   "outputs": [],
   "source": [
    "import pandas as pd"
   ]
  },
  {
   "cell_type": "code",
   "execution_count": 4,
   "metadata": {},
   "outputs": [],
   "source": [
    "movies_path = \"C:\\\\Users\\\\kumar\\\\.cache\\\\kagglehub\\\\datasets\\\\grouplens\\\\movielens-20m-dataset\\\\versions\\\\1\\\\movie.csv\"\n",
    "ratings_path = \"C:\\\\Users\\\\kumar\\\\.cache\\\\kagglehub\\\\datasets\\\\grouplens\\\\movielens-20m-dataset\\\\versions\\\\1\\\\rating.csv\""
   ]
  },
  {
   "cell_type": "code",
   "execution_count": 5,
   "metadata": {},
   "outputs": [],
   "source": [
    "# Load the datasets\n",
    "movies = pd.read_csv(movies_path)\n",
    "ratings = pd.read_csv(ratings_path)"
   ]
  },
  {
   "cell_type": "code",
   "execution_count": 6,
   "metadata": {},
   "outputs": [
    {
     "name": "stdout",
     "output_type": "stream",
     "text": [
      "Movies data:\n"
     ]
    },
    {
     "data": {
      "text/html": [
       "<div>\n",
       "<style scoped>\n",
       "    .dataframe tbody tr th:only-of-type {\n",
       "        vertical-align: middle;\n",
       "    }\n",
       "\n",
       "    .dataframe tbody tr th {\n",
       "        vertical-align: top;\n",
       "    }\n",
       "\n",
       "    .dataframe thead th {\n",
       "        text-align: right;\n",
       "    }\n",
       "</style>\n",
       "<table border=\"1\" class=\"dataframe\">\n",
       "  <thead>\n",
       "    <tr style=\"text-align: right;\">\n",
       "      <th></th>\n",
       "      <th>movieId</th>\n",
       "      <th>title</th>\n",
       "      <th>genres</th>\n",
       "    </tr>\n",
       "  </thead>\n",
       "  <tbody>\n",
       "    <tr>\n",
       "      <th>0</th>\n",
       "      <td>1</td>\n",
       "      <td>Toy Story (1995)</td>\n",
       "      <td>Adventure|Animation|Children|Comedy|Fantasy</td>\n",
       "    </tr>\n",
       "    <tr>\n",
       "      <th>1</th>\n",
       "      <td>2</td>\n",
       "      <td>Jumanji (1995)</td>\n",
       "      <td>Adventure|Children|Fantasy</td>\n",
       "    </tr>\n",
       "    <tr>\n",
       "      <th>2</th>\n",
       "      <td>3</td>\n",
       "      <td>Grumpier Old Men (1995)</td>\n",
       "      <td>Comedy|Romance</td>\n",
       "    </tr>\n",
       "    <tr>\n",
       "      <th>3</th>\n",
       "      <td>4</td>\n",
       "      <td>Waiting to Exhale (1995)</td>\n",
       "      <td>Comedy|Drama|Romance</td>\n",
       "    </tr>\n",
       "    <tr>\n",
       "      <th>4</th>\n",
       "      <td>5</td>\n",
       "      <td>Father of the Bride Part II (1995)</td>\n",
       "      <td>Comedy</td>\n",
       "    </tr>\n",
       "  </tbody>\n",
       "</table>\n",
       "</div>"
      ],
      "text/plain": [
       "   movieId                               title  \\\n",
       "0        1                    Toy Story (1995)   \n",
       "1        2                      Jumanji (1995)   \n",
       "2        3             Grumpier Old Men (1995)   \n",
       "3        4            Waiting to Exhale (1995)   \n",
       "4        5  Father of the Bride Part II (1995)   \n",
       "\n",
       "                                        genres  \n",
       "0  Adventure|Animation|Children|Comedy|Fantasy  \n",
       "1                   Adventure|Children|Fantasy  \n",
       "2                               Comedy|Romance  \n",
       "3                         Comedy|Drama|Romance  \n",
       "4                                       Comedy  "
      ]
     },
     "execution_count": 6,
     "metadata": {},
     "output_type": "execute_result"
    }
   ],
   "source": [
    "# Display the first few rows of each datasets to understand the structure.\n",
    "print(\"Movies data:\")\n",
    "movies.head()"
   ]
  },
  {
   "cell_type": "code",
   "execution_count": 7,
   "metadata": {},
   "outputs": [
    {
     "name": "stdout",
     "output_type": "stream",
     "text": [
      "Ratings data:\n"
     ]
    },
    {
     "data": {
      "text/html": [
       "<div>\n",
       "<style scoped>\n",
       "    .dataframe tbody tr th:only-of-type {\n",
       "        vertical-align: middle;\n",
       "    }\n",
       "\n",
       "    .dataframe tbody tr th {\n",
       "        vertical-align: top;\n",
       "    }\n",
       "\n",
       "    .dataframe thead th {\n",
       "        text-align: right;\n",
       "    }\n",
       "</style>\n",
       "<table border=\"1\" class=\"dataframe\">\n",
       "  <thead>\n",
       "    <tr style=\"text-align: right;\">\n",
       "      <th></th>\n",
       "      <th>userId</th>\n",
       "      <th>movieId</th>\n",
       "      <th>rating</th>\n",
       "      <th>timestamp</th>\n",
       "    </tr>\n",
       "  </thead>\n",
       "  <tbody>\n",
       "    <tr>\n",
       "      <th>0</th>\n",
       "      <td>1</td>\n",
       "      <td>2</td>\n",
       "      <td>3.5</td>\n",
       "      <td>2005-04-02 23:53:47</td>\n",
       "    </tr>\n",
       "    <tr>\n",
       "      <th>1</th>\n",
       "      <td>1</td>\n",
       "      <td>29</td>\n",
       "      <td>3.5</td>\n",
       "      <td>2005-04-02 23:31:16</td>\n",
       "    </tr>\n",
       "    <tr>\n",
       "      <th>2</th>\n",
       "      <td>1</td>\n",
       "      <td>32</td>\n",
       "      <td>3.5</td>\n",
       "      <td>2005-04-02 23:33:39</td>\n",
       "    </tr>\n",
       "    <tr>\n",
       "      <th>3</th>\n",
       "      <td>1</td>\n",
       "      <td>47</td>\n",
       "      <td>3.5</td>\n",
       "      <td>2005-04-02 23:32:07</td>\n",
       "    </tr>\n",
       "    <tr>\n",
       "      <th>4</th>\n",
       "      <td>1</td>\n",
       "      <td>50</td>\n",
       "      <td>3.5</td>\n",
       "      <td>2005-04-02 23:29:40</td>\n",
       "    </tr>\n",
       "  </tbody>\n",
       "</table>\n",
       "</div>"
      ],
      "text/plain": [
       "   userId  movieId  rating            timestamp\n",
       "0       1        2     3.5  2005-04-02 23:53:47\n",
       "1       1       29     3.5  2005-04-02 23:31:16\n",
       "2       1       32     3.5  2005-04-02 23:33:39\n",
       "3       1       47     3.5  2005-04-02 23:32:07\n",
       "4       1       50     3.5  2005-04-02 23:29:40"
      ]
     },
     "execution_count": 7,
     "metadata": {},
     "output_type": "execute_result"
    }
   ],
   "source": [
    "print(\"Ratings data:\")\n",
    "ratings.head()"
   ]
  },
  {
   "cell_type": "code",
   "execution_count": 8,
   "metadata": {},
   "outputs": [
    {
     "name": "stdout",
     "output_type": "stream",
     "text": [
      "Missing values in movies dataset:\n",
      " movieId    0\n",
      "title      0\n",
      "genres     0\n",
      "dtype: int64\n",
      "Missing valies in ratings dataset:\n",
      " userId       0\n",
      "movieId      0\n",
      "rating       0\n",
      "timestamp    0\n",
      "dtype: int64\n"
     ]
    }
   ],
   "source": [
    "# Check for missing values on both datasets\n",
    "print(\"Missing values in movies dataset:\\n\", movies.isnull().sum())\n",
    "print(\"Missing valies in ratings dataset:\\n\", ratings.isnull().sum())"
   ]
  },
  {
   "cell_type": "code",
   "execution_count": 9,
   "metadata": {},
   "outputs": [
    {
     "name": "stdout",
     "output_type": "stream",
     "text": [
      "Ratings Summary:\n",
      "\n",
      "count    2.000026e+07\n",
      "mean     3.525529e+00\n",
      "std      1.051989e+00\n",
      "min      5.000000e-01\n",
      "25%      3.000000e+00\n",
      "50%      3.500000e+00\n",
      "75%      4.000000e+00\n",
      "max      5.000000e+00\n",
      "Name: rating, dtype: float64\n"
     ]
    }
   ],
   "source": [
    "# Check basic statistics in ratings dataset (eg. rating distribution)\n",
    "print(\"Ratings Summary:\\n\")\n",
    "print(ratings['rating'].describe())"
   ]
  },
  {
   "cell_type": "markdown",
   "metadata": {},
   "source": [
    "#### Using other libraries to explore datasets."
   ]
  },
  {
   "cell_type": "code",
   "execution_count": 10,
   "metadata": {},
   "outputs": [
    {
     "name": "stdout",
     "output_type": "stream",
     "text": [
      "Requirement already satisfied: pydantic-settings in d:\\src_git\\learn_ds\\.venv\\lib\\site-packages (2.6.1)\n",
      "Requirement already satisfied: ydata_profiling in d:\\src_git\\learn_ds\\.venv\\lib\\site-packages (4.12.0)\n",
      "Requirement already satisfied: pydantic>=2.7.0 in d:\\src_git\\learn_ds\\.venv\\lib\\site-packages (from pydantic-settings) (2.9.2)\n",
      "Requirement already satisfied: python-dotenv>=0.21.0 in d:\\src_git\\learn_ds\\.venv\\lib\\site-packages (from pydantic-settings) (1.0.1)\n",
      "Requirement already satisfied: scipy<1.14,>=1.4.1 in d:\\src_git\\learn_ds\\.venv\\lib\\site-packages (from ydata_profiling) (1.13.1)\n",
      "Requirement already satisfied: pandas!=1.4.0,<3,>1.1 in d:\\src_git\\learn_ds\\.venv\\lib\\site-packages (from ydata_profiling) (2.2.3)\n",
      "Requirement already satisfied: matplotlib<3.10,>=3.5 in d:\\src_git\\learn_ds\\.venv\\lib\\site-packages (from ydata_profiling) (3.9.2)\n",
      "Requirement already satisfied: PyYAML<6.1,>=5.0.0 in d:\\src_git\\learn_ds\\.venv\\lib\\site-packages (from ydata_profiling) (6.0.2)\n",
      "Requirement already satisfied: jinja2<3.2,>=2.11.1 in d:\\src_git\\learn_ds\\.venv\\lib\\site-packages (from ydata_profiling) (3.1.4)\n",
      "Requirement already satisfied: visions<0.7.7,>=0.7.5 in d:\\src_git\\learn_ds\\.venv\\lib\\site-packages (from visions[type_image_path]<0.7.7,>=0.7.5->ydata_profiling) (0.7.6)\n",
      "Requirement already satisfied: numpy<2.2,>=1.16.0 in d:\\src_git\\learn_ds\\.venv\\lib\\site-packages (from ydata_profiling) (2.1.3)\n",
      "Requirement already satisfied: htmlmin==0.1.12 in d:\\src_git\\learn_ds\\.venv\\lib\\site-packages (from ydata_profiling) (0.1.12)\n",
      "Requirement already satisfied: phik<0.13,>=0.11.1 in d:\\src_git\\learn_ds\\.venv\\lib\\site-packages (from ydata_profiling) (0.12.4)\n",
      "Requirement already satisfied: requests<3,>=2.24.0 in d:\\src_git\\learn_ds\\.venv\\lib\\site-packages (from ydata_profiling) (2.32.3)\n",
      "Requirement already satisfied: tqdm<5,>=4.48.2 in d:\\src_git\\learn_ds\\.venv\\lib\\site-packages (from ydata_profiling) (4.67.0)\n",
      "Requirement already satisfied: seaborn<0.14,>=0.10.1 in d:\\src_git\\learn_ds\\.venv\\lib\\site-packages (from ydata_profiling) (0.13.2)\n",
      "Requirement already satisfied: multimethod<2,>=1.4 in d:\\src_git\\learn_ds\\.venv\\lib\\site-packages (from ydata_profiling) (1.12)\n",
      "Requirement already satisfied: statsmodels<1,>=0.13.2 in d:\\src_git\\learn_ds\\.venv\\lib\\site-packages (from ydata_profiling) (0.14.4)\n",
      "Requirement already satisfied: typeguard<5,>=3 in d:\\src_git\\learn_ds\\.venv\\lib\\site-packages (from ydata_profiling) (4.4.1)\n",
      "Requirement already satisfied: imagehash==4.3.1 in d:\\src_git\\learn_ds\\.venv\\lib\\site-packages (from ydata_profiling) (4.3.1)\n",
      "Requirement already satisfied: wordcloud>=1.9.3 in d:\\src_git\\learn_ds\\.venv\\lib\\site-packages (from ydata_profiling) (1.9.4)\n",
      "Requirement already satisfied: dacite>=1.8 in d:\\src_git\\learn_ds\\.venv\\lib\\site-packages (from ydata_profiling) (1.8.1)\n",
      "Requirement already satisfied: numba<1,>=0.56.0 in d:\\src_git\\learn_ds\\.venv\\lib\\site-packages (from ydata_profiling) (0.60.0)\n",
      "Requirement already satisfied: PyWavelets in d:\\src_git\\learn_ds\\.venv\\lib\\site-packages (from imagehash==4.3.1->ydata_profiling) (1.7.0)\n",
      "Requirement already satisfied: pillow in d:\\src_git\\learn_ds\\.venv\\lib\\site-packages (from imagehash==4.3.1->ydata_profiling) (11.0.0)\n",
      "Requirement already satisfied: MarkupSafe>=2.0 in d:\\src_git\\learn_ds\\.venv\\lib\\site-packages (from jinja2<3.2,>=2.11.1->ydata_profiling) (2.1.5)\n",
      "Requirement already satisfied: contourpy>=1.0.1 in d:\\src_git\\learn_ds\\.venv\\lib\\site-packages (from matplotlib<3.10,>=3.5->ydata_profiling) (1.3.0)\n",
      "Requirement already satisfied: cycler>=0.10 in d:\\src_git\\learn_ds\\.venv\\lib\\site-packages (from matplotlib<3.10,>=3.5->ydata_profiling) (0.12.1)\n",
      "Requirement already satisfied: fonttools>=4.22.0 in d:\\src_git\\learn_ds\\.venv\\lib\\site-packages (from matplotlib<3.10,>=3.5->ydata_profiling) (4.54.1)\n",
      "Requirement already satisfied: kiwisolver>=1.3.1 in d:\\src_git\\learn_ds\\.venv\\lib\\site-packages (from matplotlib<3.10,>=3.5->ydata_profiling) (1.4.7)\n",
      "Requirement already satisfied: packaging>=20.0 in d:\\src_git\\learn_ds\\.venv\\lib\\site-packages (from matplotlib<3.10,>=3.5->ydata_profiling) (24.1)\n",
      "Requirement already satisfied: pyparsing>=2.3.1 in d:\\src_git\\learn_ds\\.venv\\lib\\site-packages (from matplotlib<3.10,>=3.5->ydata_profiling) (3.2.0)\n",
      "Requirement already satisfied: python-dateutil>=2.7 in d:\\src_git\\learn_ds\\.venv\\lib\\site-packages (from matplotlib<3.10,>=3.5->ydata_profiling) (2.9.0.post0)\n",
      "Requirement already satisfied: llvmlite<0.44,>=0.43.0dev0 in d:\\src_git\\learn_ds\\.venv\\lib\\site-packages (from numba<1,>=0.56.0->ydata_profiling) (0.43.0)\n",
      "Collecting numpy<2.2,>=1.16.0 (from ydata_profiling)\n",
      "  Using cached numpy-2.0.2-cp312-cp312-win_amd64.whl.metadata (59 kB)\n",
      "Requirement already satisfied: pytz>=2020.1 in d:\\src_git\\learn_ds\\.venv\\lib\\site-packages (from pandas!=1.4.0,<3,>1.1->ydata_profiling) (2024.2)\n",
      "Requirement already satisfied: tzdata>=2022.7 in d:\\src_git\\learn_ds\\.venv\\lib\\site-packages (from pandas!=1.4.0,<3,>1.1->ydata_profiling) (2024.2)\n",
      "Requirement already satisfied: joblib>=0.14.1 in d:\\src_git\\learn_ds\\.venv\\lib\\site-packages (from phik<0.13,>=0.11.1->ydata_profiling) (1.4.2)\n",
      "Requirement already satisfied: annotated-types>=0.6.0 in d:\\src_git\\learn_ds\\.venv\\lib\\site-packages (from pydantic>=2.7.0->pydantic-settings) (0.7.0)\n",
      "Requirement already satisfied: pydantic-core==2.23.4 in d:\\src_git\\learn_ds\\.venv\\lib\\site-packages (from pydantic>=2.7.0->pydantic-settings) (2.23.4)\n",
      "Requirement already satisfied: typing-extensions>=4.6.1 in d:\\src_git\\learn_ds\\.venv\\lib\\site-packages (from pydantic>=2.7.0->pydantic-settings) (4.12.2)\n",
      "Requirement already satisfied: charset-normalizer<4,>=2 in d:\\src_git\\learn_ds\\.venv\\lib\\site-packages (from requests<3,>=2.24.0->ydata_profiling) (3.4.0)\n",
      "Requirement already satisfied: idna<4,>=2.5 in d:\\src_git\\learn_ds\\.venv\\lib\\site-packages (from requests<3,>=2.24.0->ydata_profiling) (3.10)\n",
      "Requirement already satisfied: urllib3<3,>=1.21.1 in d:\\src_git\\learn_ds\\.venv\\lib\\site-packages (from requests<3,>=2.24.0->ydata_profiling) (2.2.3)\n",
      "Requirement already satisfied: certifi>=2017.4.17 in d:\\src_git\\learn_ds\\.venv\\lib\\site-packages (from requests<3,>=2.24.0->ydata_profiling) (2024.8.30)\n",
      "Requirement already satisfied: patsy>=0.5.6 in d:\\src_git\\learn_ds\\.venv\\lib\\site-packages (from statsmodels<1,>=0.13.2->ydata_profiling) (0.5.6)\n",
      "Requirement already satisfied: colorama in d:\\src_git\\learn_ds\\.venv\\lib\\site-packages (from tqdm<5,>=4.48.2->ydata_profiling) (0.4.6)\n",
      "Requirement already satisfied: attrs>=19.3.0 in d:\\src_git\\learn_ds\\.venv\\lib\\site-packages (from visions<0.7.7,>=0.7.5->visions[type_image_path]<0.7.7,>=0.7.5->ydata_profiling) (24.2.0)\n",
      "Requirement already satisfied: networkx>=2.4 in d:\\src_git\\learn_ds\\.venv\\lib\\site-packages (from visions<0.7.7,>=0.7.5->visions[type_image_path]<0.7.7,>=0.7.5->ydata_profiling) (3.4.2)\n",
      "Requirement already satisfied: six in d:\\src_git\\learn_ds\\.venv\\lib\\site-packages (from patsy>=0.5.6->statsmodels<1,>=0.13.2->ydata_profiling) (1.16.0)\n",
      "Using cached numpy-2.0.2-cp312-cp312-win_amd64.whl (15.6 MB)\n",
      "Installing collected packages: numpy\n",
      "  Attempting uninstall: numpy\n",
      "    Found existing installation: numpy 2.1.3\n",
      "    Uninstalling numpy-2.1.3:\n",
      "      Successfully uninstalled numpy-2.1.3\n",
      "Successfully installed numpy-2.0.2\n"
     ]
    },
    {
     "name": "stderr",
     "output_type": "stream",
     "text": [
      "  WARNING: Failed to remove contents in a temporary directory 'D:\\src_git\\learn_ds\\.venv\\Lib\\site-packages\\~~mpy.libs'.\n",
      "  You can safely remove it manually.\n",
      "  WARNING: Failed to remove contents in a temporary directory 'D:\\src_git\\learn_ds\\.venv\\Lib\\site-packages\\~~mpy'.\n",
      "  You can safely remove it manually.\n"
     ]
    }
   ],
   "source": [
    "!pip install pydantic-settings ydata_profiling"
   ]
  },
  {
   "cell_type": "code",
   "execution_count": 11,
   "metadata": {},
   "outputs": [
    {
     "ename": "ImportError",
     "evalue": "Numba needs NumPy 2.0 or less. Got NumPy 2.1.",
     "output_type": "error",
     "traceback": [
      "\u001b[1;31m---------------------------------------------------------------------------\u001b[0m",
      "\u001b[1;31mImportError\u001b[0m                               Traceback (most recent call last)",
      "Cell \u001b[1;32mIn[11], line 2\u001b[0m\n\u001b[0;32m      1\u001b[0m \u001b[38;5;28;01mimport\u001b[39;00m \u001b[38;5;21;01mpandas\u001b[39;00m \u001b[38;5;28;01mas\u001b[39;00m \u001b[38;5;21;01mpd\u001b[39;00m\n\u001b[1;32m----> 2\u001b[0m \u001b[38;5;28;01mfrom\u001b[39;00m \u001b[38;5;21;01mydata_profiling\u001b[39;00m \u001b[38;5;28;01mimport\u001b[39;00m ProfileReport  \u001b[38;5;66;03m# this needs numpy==2.0\u001b[39;00m\n",
      "File \u001b[1;32md:\\src_git\\learn_ds\\.venv\\Lib\\site-packages\\ydata_profiling\\__init__.py:8\u001b[0m\n\u001b[0;32m      6\u001b[0m \u001b[38;5;66;03m# ignore numba warnings\u001b[39;00m\n\u001b[0;32m      7\u001b[0m \u001b[38;5;28;01mimport\u001b[39;00m \u001b[38;5;21;01mwarnings\u001b[39;00m  \u001b[38;5;66;03m# isort:skip # noqa\u001b[39;00m\n\u001b[1;32m----> 8\u001b[0m \u001b[38;5;28;01mfrom\u001b[39;00m \u001b[38;5;21;01mnumba\u001b[39;00m\u001b[38;5;21;01m.\u001b[39;00m\u001b[38;5;21;01mcore\u001b[39;00m\u001b[38;5;21;01m.\u001b[39;00m\u001b[38;5;21;01merrors\u001b[39;00m \u001b[38;5;28;01mimport\u001b[39;00m NumbaDeprecationWarning  \u001b[38;5;66;03m# isort:skip # noqa\u001b[39;00m\n\u001b[0;32m     10\u001b[0m warnings\u001b[38;5;241m.\u001b[39msimplefilter(\u001b[38;5;124m\"\u001b[39m\u001b[38;5;124mignore\u001b[39m\u001b[38;5;124m\"\u001b[39m, category\u001b[38;5;241m=\u001b[39mNumbaDeprecationWarning)\n\u001b[0;32m     12\u001b[0m \u001b[38;5;28;01mimport\u001b[39;00m \u001b[38;5;21;01mimportlib\u001b[39;00m\u001b[38;5;21;01m.\u001b[39;00m\u001b[38;5;21;01mutil\u001b[39;00m  \u001b[38;5;66;03m# isort:skip # noqa\u001b[39;00m\n",
      "File \u001b[1;32md:\\src_git\\learn_ds\\.venv\\Lib\\site-packages\\numba\\__init__.py:59\u001b[0m\n\u001b[0;32m     54\u001b[0m             msg \u001b[38;5;241m=\u001b[39m (\u001b[38;5;124m\"\u001b[39m\u001b[38;5;124mNumba requires SciPy version 1.0 or greater. Got SciPy \u001b[39m\u001b[38;5;124m\"\u001b[39m\n\u001b[0;32m     55\u001b[0m                    \u001b[38;5;124mf\u001b[39m\u001b[38;5;124m\"\u001b[39m\u001b[38;5;132;01m{\u001b[39;00mscipy\u001b[38;5;241m.\u001b[39m__version__\u001b[38;5;132;01m}\u001b[39;00m\u001b[38;5;124m.\u001b[39m\u001b[38;5;124m\"\u001b[39m)\n\u001b[0;32m     56\u001b[0m             \u001b[38;5;28;01mraise\u001b[39;00m \u001b[38;5;167;01mImportError\u001b[39;00m(msg)\n\u001b[1;32m---> 59\u001b[0m \u001b[43m_ensure_critical_deps\u001b[49m\u001b[43m(\u001b[49m\u001b[43m)\u001b[49m\n\u001b[0;32m     60\u001b[0m \u001b[38;5;66;03m# END DO NOT MOVE\u001b[39;00m\n\u001b[0;32m     61\u001b[0m \u001b[38;5;66;03m# ---------------------- WARNING WARNING WARNING ----------------------------\u001b[39;00m\n\u001b[0;32m     64\u001b[0m \u001b[38;5;28;01mfrom\u001b[39;00m \u001b[38;5;21;01m.\u001b[39;00m\u001b[38;5;21;01m_version\u001b[39;00m \u001b[38;5;28;01mimport\u001b[39;00m get_versions\n",
      "File \u001b[1;32md:\\src_git\\learn_ds\\.venv\\Lib\\site-packages\\numba\\__init__.py:45\u001b[0m, in \u001b[0;36m_ensure_critical_deps\u001b[1;34m()\u001b[0m\n\u001b[0;32m     42\u001b[0m \u001b[38;5;28;01mif\u001b[39;00m numpy_version \u001b[38;5;241m>\u001b[39m (\u001b[38;5;241m2\u001b[39m, \u001b[38;5;241m0\u001b[39m):\n\u001b[0;32m     43\u001b[0m     msg \u001b[38;5;241m=\u001b[39m (\u001b[38;5;124mf\u001b[39m\u001b[38;5;124m\"\u001b[39m\u001b[38;5;124mNumba needs NumPy 2.0 or less. Got NumPy \u001b[39m\u001b[38;5;124m\"\u001b[39m\n\u001b[0;32m     44\u001b[0m            \u001b[38;5;124mf\u001b[39m\u001b[38;5;124m\"\u001b[39m\u001b[38;5;132;01m{\u001b[39;00mnumpy_version[\u001b[38;5;241m0\u001b[39m]\u001b[38;5;132;01m}\u001b[39;00m\u001b[38;5;124m.\u001b[39m\u001b[38;5;132;01m{\u001b[39;00mnumpy_version[\u001b[38;5;241m1\u001b[39m]\u001b[38;5;132;01m}\u001b[39;00m\u001b[38;5;124m.\u001b[39m\u001b[38;5;124m\"\u001b[39m)\n\u001b[1;32m---> 45\u001b[0m     \u001b[38;5;28;01mraise\u001b[39;00m \u001b[38;5;167;01mImportError\u001b[39;00m(msg)\n\u001b[0;32m     47\u001b[0m \u001b[38;5;28;01mtry\u001b[39;00m:\n\u001b[0;32m     48\u001b[0m     \u001b[38;5;28;01mimport\u001b[39;00m \u001b[38;5;21;01mscipy\u001b[39;00m\n",
      "\u001b[1;31mImportError\u001b[0m: Numba needs NumPy 2.0 or less. Got NumPy 2.1."
     ]
    }
   ],
   "source": [
    "import pandas as pd\n",
    "from ydata_profiling import ProfileReport  # this needs numpy==2.0"
   ]
  },
  {
   "cell_type": "code",
   "execution_count": 12,
   "metadata": {},
   "outputs": [
    {
     "ename": "NameError",
     "evalue": "name 'ProfileReport' is not defined",
     "output_type": "error",
     "traceback": [
      "\u001b[1;31m---------------------------------------------------------------------------\u001b[0m",
      "\u001b[1;31mNameError\u001b[0m                                 Traceback (most recent call last)",
      "Cell \u001b[1;32mIn[12], line 4\u001b[0m\n\u001b[0;32m      1\u001b[0m \u001b[38;5;66;03m# loading datasets is done earlier. movies & ratings\u001b[39;00m\n\u001b[0;32m      2\u001b[0m \n\u001b[0;32m      3\u001b[0m \u001b[38;5;66;03m# generate a profile report for each dataset\u001b[39;00m\n\u001b[1;32m----> 4\u001b[0m movies_report \u001b[38;5;241m=\u001b[39m \u001b[43mProfileReport\u001b[49m(movies, title\u001b[38;5;241m=\u001b[39m\u001b[38;5;124m\"\u001b[39m\u001b[38;5;124mMovies Dataset Report\u001b[39m\u001b[38;5;124m\"\u001b[39m, explorative\u001b[38;5;241m=\u001b[39m\u001b[38;5;28;01mTrue\u001b[39;00m)\n\u001b[0;32m      5\u001b[0m ratings_report \u001b[38;5;241m=\u001b[39m ProfileReport(ratings, title\u001b[38;5;241m=\u001b[39m\u001b[38;5;124m\"\u001b[39m\u001b[38;5;124mRatings Dataset Report\u001b[39m\u001b[38;5;124m\"\u001b[39m, explorative\u001b[38;5;241m=\u001b[39m\u001b[38;5;28;01mTrue\u001b[39;00m)\n",
      "\u001b[1;31mNameError\u001b[0m: name 'ProfileReport' is not defined"
     ]
    }
   ],
   "source": [
    "# loading datasets is done earlier. movies & ratings\n",
    "\n",
    "# generate a profile report for each dataset\n",
    "movies_report = ProfileReport(movies, title=\"Movies Dataset Report\", explorative=True)\n",
    "ratings_report = ProfileReport(ratings, title=\"Ratings Dataset Report\", explorative=True)"
   ]
  },
  {
   "cell_type": "code",
   "execution_count": null,
   "metadata": {},
   "outputs": [
    {
     "name": "stderr",
     "output_type": "stream",
     "text": [
      "Summarize dataset: 100%|██████████| 13/13 [00:00<00:00, 22.10it/s, Completed]                \n",
      "Generate report structure: 100%|██████████| 1/1 [00:00<00:00,  1.18it/s]\n",
      "Render HTML: 100%|██████████| 1/1 [00:00<00:00,  3.91it/s]\n",
      "Export report to file: 100%|██████████| 1/1 [00:00<00:00, 499.98it/s]\n",
      "Summarize dataset:  77%|███████▋  | 17/22 [02:47<00:09,  1.85s/it, Missing diagram matrix]   d:\\src_git\\learn_ds\\.venv\\Lib\\site-packages\\matplotlib\\image.py:181: UserWarning: Data with more than 2**24 rows cannot be accurately displayed. Downsampling to less than 2**24 rows before displaying. To remove this warning, manually downsample your data.\n",
      "  warnings.warn(msg.format(n='2**24 rows'))\n",
      "Summarize dataset: 100%|██████████| 22/22 [03:03<00:00,  8.34s/it, Completed]               \n",
      "Generate report structure: 100%|██████████| 1/1 [00:00<00:00,  1.70it/s]\n",
      "Render HTML: 100%|██████████| 1/1 [00:00<00:00,  6.25it/s]\n",
      "Export report to file: 100%|██████████| 1/1 [00:00<00:00, 285.29it/s]\n"
     ]
    }
   ],
   "source": [
    "# Save reports as HTML files for easy viewing\n",
    "movies_report.to_file(\"movies_report.html\")\n",
    "ratings_report.to_file(\"ratings_report.html\")"
   ]
  },
  {
   "cell_type": "markdown",
   "metadata": {},
   "source": [
    "##### We will use SweetWiz for exploring the dataset"
   ]
  },
  {
   "cell_type": "code",
   "execution_count": null,
   "metadata": {},
   "outputs": [],
   "source": [
    "# We need to download latest numpy for this."
   ]
  },
  {
   "cell_type": "code",
   "execution_count": null,
   "metadata": {},
   "outputs": [
    {
     "name": "stdout",
     "output_type": "stream",
     "text": [
      "Collecting sweetviz\n",
      "  Downloading sweetviz-2.3.1-py3-none-any.whl.metadata (24 kB)\n",
      "Requirement already satisfied: pandas!=1.0.0,!=1.0.1,!=1.0.2,>=0.25.3 in d:\\src_git\\learn_ds\\.venv\\lib\\site-packages (from sweetviz) (2.2.3)\n",
      "Requirement already satisfied: numpy>=1.16.0 in d:\\src_git\\learn_ds\\.venv\\lib\\site-packages (from sweetviz) (2.0.0)\n",
      "Requirement already satisfied: matplotlib>=3.1.3 in d:\\src_git\\learn_ds\\.venv\\lib\\site-packages (from sweetviz) (3.9.2)\n",
      "Requirement already satisfied: tqdm>=4.43.0 in d:\\src_git\\learn_ds\\.venv\\lib\\site-packages (from sweetviz) (4.67.0)\n",
      "Requirement already satisfied: scipy>=1.3.2 in d:\\src_git\\learn_ds\\.venv\\lib\\site-packages (from sweetviz) (1.13.1)\n",
      "Requirement already satisfied: jinja2>=2.11.1 in d:\\src_git\\learn_ds\\.venv\\lib\\site-packages (from sweetviz) (3.1.4)\n",
      "Collecting importlib-resources>=1.2.0 (from sweetviz)\n",
      "  Using cached importlib_resources-6.4.5-py3-none-any.whl.metadata (4.0 kB)\n",
      "Requirement already satisfied: MarkupSafe>=2.0 in d:\\src_git\\learn_ds\\.venv\\lib\\site-packages (from jinja2>=2.11.1->sweetviz) (2.1.5)\n",
      "Requirement already satisfied: contourpy>=1.0.1 in d:\\src_git\\learn_ds\\.venv\\lib\\site-packages (from matplotlib>=3.1.3->sweetviz) (1.3.0)\n",
      "Requirement already satisfied: cycler>=0.10 in d:\\src_git\\learn_ds\\.venv\\lib\\site-packages (from matplotlib>=3.1.3->sweetviz) (0.12.1)\n",
      "Requirement already satisfied: fonttools>=4.22.0 in d:\\src_git\\learn_ds\\.venv\\lib\\site-packages (from matplotlib>=3.1.3->sweetviz) (4.54.1)\n",
      "Requirement already satisfied: kiwisolver>=1.3.1 in d:\\src_git\\learn_ds\\.venv\\lib\\site-packages (from matplotlib>=3.1.3->sweetviz) (1.4.7)\n",
      "Requirement already satisfied: packaging>=20.0 in d:\\src_git\\learn_ds\\.venv\\lib\\site-packages (from matplotlib>=3.1.3->sweetviz) (24.1)\n",
      "Requirement already satisfied: pillow>=8 in d:\\src_git\\learn_ds\\.venv\\lib\\site-packages (from matplotlib>=3.1.3->sweetviz) (11.0.0)\n",
      "Requirement already satisfied: pyparsing>=2.3.1 in d:\\src_git\\learn_ds\\.venv\\lib\\site-packages (from matplotlib>=3.1.3->sweetviz) (3.2.0)\n",
      "Requirement already satisfied: python-dateutil>=2.7 in d:\\src_git\\learn_ds\\.venv\\lib\\site-packages (from matplotlib>=3.1.3->sweetviz) (2.9.0.post0)\n",
      "Requirement already satisfied: pytz>=2020.1 in d:\\src_git\\learn_ds\\.venv\\lib\\site-packages (from pandas!=1.0.0,!=1.0.1,!=1.0.2,>=0.25.3->sweetviz) (2024.2)\n",
      "Requirement already satisfied: tzdata>=2022.7 in d:\\src_git\\learn_ds\\.venv\\lib\\site-packages (from pandas!=1.0.0,!=1.0.1,!=1.0.2,>=0.25.3->sweetviz) (2024.2)\n",
      "Requirement already satisfied: colorama in d:\\src_git\\learn_ds\\.venv\\lib\\site-packages (from tqdm>=4.43.0->sweetviz) (0.4.6)\n",
      "Requirement already satisfied: six>=1.5 in d:\\src_git\\learn_ds\\.venv\\lib\\site-packages (from python-dateutil>=2.7->matplotlib>=3.1.3->sweetviz) (1.16.0)\n",
      "Downloading sweetviz-2.3.1-py3-none-any.whl (15.1 MB)\n",
      "   ---------------------------------------- 0.0/15.1 MB ? eta -:--:--\n",
      "   --------- ------------------------------ 3.7/15.1 MB 72.5 MB/s eta 0:00:01\n",
      "   --------------------- ------------------ 8.1/15.1 MB 24.0 MB/s eta 0:00:01\n",
      "   --------------------------------- ------ 12.6/15.1 MB 20.2 MB/s eta 0:00:01\n",
      "   ---------------------------------------- 15.1/15.1 MB 18.6 MB/s eta 0:00:00\n",
      "Using cached importlib_resources-6.4.5-py3-none-any.whl (36 kB)\n",
      "Installing collected packages: importlib-resources, sweetviz\n",
      "Successfully installed importlib-resources-6.4.5 sweetviz-2.3.1\n"
     ]
    }
   ],
   "source": [
    "!pip install sweetviz"
   ]
  },
  {
   "cell_type": "code",
   "execution_count": null,
   "metadata": {},
   "outputs": [
    {
     "name": "stdout",
     "output_type": "stream",
     "text": [
      "^C\n"
     ]
    }
   ],
   "source": [
    "# !pip uninstall numpy"
   ]
  },
  {
   "cell_type": "code",
   "execution_count": 13,
   "metadata": {},
   "outputs": [],
   "source": [
    "import numpy as np\n",
    "import sweetviz as sv"
   ]
  },
  {
   "cell_type": "code",
   "execution_count": 14,
   "metadata": {},
   "outputs": [
    {
     "name": "stderr",
     "output_type": "stream",
     "text": [
      "[Summarizing dataframe]                      |          | [  0%]   00:00 -> (? left)"
     ]
    },
    {
     "name": "stderr",
     "output_type": "stream",
     "text": [
      "Feature: movieId                             |██▌       | [ 25%]   00:00 -> (00:00 left)"
     ]
    },
    {
     "ename": "AttributeError",
     "evalue": "module 'numpy' has no attribute 'VisibleDeprecationWarning'",
     "output_type": "error",
     "traceback": [
      "\u001b[1;31m---------------------------------------------------------------------------\u001b[0m",
      "\u001b[1;31mAttributeError\u001b[0m                            Traceback (most recent call last)",
      "Cell \u001b[1;32mIn[14], line 2\u001b[0m\n\u001b[0;32m      1\u001b[0m \u001b[38;5;66;03m# generate a report for each dataset\u001b[39;00m\n\u001b[1;32m----> 2\u001b[0m movies_report \u001b[38;5;241m=\u001b[39m \u001b[43msv\u001b[49m\u001b[38;5;241;43m.\u001b[39;49m\u001b[43manalyze\u001b[49m\u001b[43m(\u001b[49m\u001b[43mmovies\u001b[49m\u001b[43m)\u001b[49m\n\u001b[0;32m      3\u001b[0m ratings_report \u001b[38;5;241m=\u001b[39m sv\u001b[38;5;241m.\u001b[39manalyze(ratings)\n",
      "File \u001b[1;32md:\\src_git\\learn_ds\\.venv\\Lib\\site-packages\\sweetviz\\sv_public.py:12\u001b[0m, in \u001b[0;36manalyze\u001b[1;34m(source, target_feat, feat_cfg, pairwise_analysis)\u001b[0m\n\u001b[0;32m      8\u001b[0m \u001b[38;5;28;01mdef\u001b[39;00m \u001b[38;5;21manalyze\u001b[39m(source: Union[pd\u001b[38;5;241m.\u001b[39mDataFrame, Tuple[pd\u001b[38;5;241m.\u001b[39mDataFrame, \u001b[38;5;28mstr\u001b[39m]],\n\u001b[0;32m      9\u001b[0m             target_feat: \u001b[38;5;28mstr\u001b[39m \u001b[38;5;241m=\u001b[39m \u001b[38;5;28;01mNone\u001b[39;00m,\n\u001b[0;32m     10\u001b[0m             feat_cfg: FeatureConfig \u001b[38;5;241m=\u001b[39m \u001b[38;5;28;01mNone\u001b[39;00m,\n\u001b[0;32m     11\u001b[0m             pairwise_analysis: \u001b[38;5;28mstr\u001b[39m \u001b[38;5;241m=\u001b[39m \u001b[38;5;124m'\u001b[39m\u001b[38;5;124mauto\u001b[39m\u001b[38;5;124m'\u001b[39m):\n\u001b[1;32m---> 12\u001b[0m     report \u001b[38;5;241m=\u001b[39m \u001b[43msweetviz\u001b[49m\u001b[38;5;241;43m.\u001b[39;49m\u001b[43mDataframeReport\u001b[49m\u001b[43m(\u001b[49m\u001b[43msource\u001b[49m\u001b[43m,\u001b[49m\u001b[43m \u001b[49m\u001b[43mtarget_feat\u001b[49m\u001b[43m,\u001b[49m\u001b[43m \u001b[49m\u001b[38;5;28;43;01mNone\u001b[39;49;00m\u001b[43m,\u001b[49m\n\u001b[0;32m     13\u001b[0m \u001b[43m                                      \u001b[49m\u001b[43mpairwise_analysis\u001b[49m\u001b[43m,\u001b[49m\u001b[43m \u001b[49m\u001b[43mfeat_cfg\u001b[49m\u001b[43m)\u001b[49m\n\u001b[0;32m     14\u001b[0m     \u001b[38;5;28;01mreturn\u001b[39;00m report\n",
      "File \u001b[1;32md:\\src_git\\learn_ds\\.venv\\Lib\\site-packages\\sweetviz\\dataframe_report.py:277\u001b[0m, in \u001b[0;36mDataframeReport.__init__\u001b[1;34m(self, source, target_feature_name, compare, pairwise_analysis, fc, verbosity)\u001b[0m\n\u001b[0;32m    274\u001b[0m \u001b[38;5;28;01mfor\u001b[39;00m f \u001b[38;5;129;01min\u001b[39;00m features_to_process:\n\u001b[0;32m    275\u001b[0m     \u001b[38;5;66;03m# start = time.perf_counter()\u001b[39;00m\n\u001b[0;32m    276\u001b[0m     \u001b[38;5;28mself\u001b[39m\u001b[38;5;241m.\u001b[39mprogress_bar\u001b[38;5;241m.\u001b[39mset_description_str(\u001b[38;5;124mf\u001b[39m\u001b[38;5;124m\"\u001b[39m\u001b[38;5;124mFeature: \u001b[39m\u001b[38;5;132;01m{\u001b[39;00mf\u001b[38;5;241m.\u001b[39msource\u001b[38;5;241m.\u001b[39mname\u001b[38;5;132;01m}\u001b[39;00m\u001b[38;5;124m\"\u001b[39m)\n\u001b[1;32m--> 277\u001b[0m     \u001b[38;5;28mself\u001b[39m\u001b[38;5;241m.\u001b[39m_features[f\u001b[38;5;241m.\u001b[39msource\u001b[38;5;241m.\u001b[39mname] \u001b[38;5;241m=\u001b[39m \u001b[43msa\u001b[49m\u001b[38;5;241;43m.\u001b[39;49m\u001b[43manalyze_feature_to_dictionary\u001b[49m\u001b[43m(\u001b[49m\u001b[43mf\u001b[49m\u001b[43m)\u001b[49m\n\u001b[0;32m    278\u001b[0m     \u001b[38;5;28mself\u001b[39m\u001b[38;5;241m.\u001b[39mprogress_bar\u001b[38;5;241m.\u001b[39mupdate(\u001b[38;5;241m1\u001b[39m)\n\u001b[0;32m    279\u001b[0m     \u001b[38;5;66;03m# print(f\"DONE FEATURE------> {f.source.name}\"\u001b[39;00m\n\u001b[0;32m    280\u001b[0m     \u001b[38;5;66;03m#       f\" {(time.perf_counter() - start):.2f}   {self._features[f.source.name]['type']}\")\u001b[39;00m\n\u001b[0;32m    281\u001b[0m \u001b[38;5;66;03m# self.progress_bar.set_description_str('[FEATURES DONE]')\u001b[39;00m\n\u001b[0;32m    282\u001b[0m \u001b[38;5;66;03m# self.progress_bar.close()\u001b[39;00m\n\u001b[0;32m    283\u001b[0m \n\u001b[0;32m    284\u001b[0m \u001b[38;5;66;03m# Wrap up summary\u001b[39;00m\n",
      "File \u001b[1;32md:\\src_git\\learn_ds\\.venv\\Lib\\site-packages\\sweetviz\\series_analyzer.py:142\u001b[0m, in \u001b[0;36manalyze_feature_to_dictionary\u001b[1;34m(to_process)\u001b[0m\n\u001b[0;32m    140\u001b[0m \u001b[38;5;66;03m# Perform full analysis on source/compare/target\u001b[39;00m\n\u001b[0;32m    141\u001b[0m \u001b[38;5;28;01mif\u001b[39;00m returned_feature_dict[\u001b[38;5;124m\"\u001b[39m\u001b[38;5;124mtype\u001b[39m\u001b[38;5;124m\"\u001b[39m] \u001b[38;5;241m==\u001b[39m FeatureType\u001b[38;5;241m.\u001b[39mTYPE_NUM:\n\u001b[1;32m--> 142\u001b[0m     \u001b[43msweetviz\u001b[49m\u001b[38;5;241;43m.\u001b[39;49m\u001b[43mseries_analyzer_numeric\u001b[49m\u001b[38;5;241;43m.\u001b[39;49m\u001b[43manalyze\u001b[49m\u001b[43m(\u001b[49m\u001b[43mto_process\u001b[49m\u001b[43m,\u001b[49m\u001b[43m \u001b[49m\u001b[43mreturned_feature_dict\u001b[49m\u001b[43m)\u001b[49m\n\u001b[0;32m    143\u001b[0m \u001b[38;5;28;01melif\u001b[39;00m returned_feature_dict[\u001b[38;5;124m\"\u001b[39m\u001b[38;5;124mtype\u001b[39m\u001b[38;5;124m\"\u001b[39m] \u001b[38;5;241m==\u001b[39m FeatureType\u001b[38;5;241m.\u001b[39mTYPE_CAT:\n\u001b[0;32m    144\u001b[0m     sweetviz\u001b[38;5;241m.\u001b[39mseries_analyzer_cat\u001b[38;5;241m.\u001b[39manalyze(to_process, returned_feature_dict)\n",
      "File \u001b[1;32md:\\src_git\\learn_ds\\.venv\\Lib\\site-packages\\sweetviz\\series_analyzer_numeric.py:102\u001b[0m, in \u001b[0;36manalyze\u001b[1;34m(to_process, feature_dict)\u001b[0m\n\u001b[0;32m     98\u001b[0m     do_stats_numeric(to_process\u001b[38;5;241m.\u001b[39mcompare, compare_dict)\n\u001b[0;32m    100\u001b[0m do_detail_numeric(to_process\u001b[38;5;241m.\u001b[39msource, to_process\u001b[38;5;241m.\u001b[39msource_counts, to_process\u001b[38;5;241m.\u001b[39mcompare_counts, feature_dict)\n\u001b[1;32m--> 102\u001b[0m feature_dict[\u001b[38;5;124m\"\u001b[39m\u001b[38;5;124mminigraph\u001b[39m\u001b[38;5;124m\"\u001b[39m] \u001b[38;5;241m=\u001b[39m \u001b[43mGraphNumeric\u001b[49m\u001b[43m(\u001b[49m\u001b[38;5;124;43m\"\u001b[39;49m\u001b[38;5;124;43mmini\u001b[39;49m\u001b[38;5;124;43m\"\u001b[39;49m\u001b[43m,\u001b[49m\u001b[43m \u001b[49m\u001b[43mto_process\u001b[49m\u001b[43m)\u001b[49m\n\u001b[0;32m    103\u001b[0m feature_dict[\u001b[38;5;124m\"\u001b[39m\u001b[38;5;124mdetail_graphs\u001b[39m\u001b[38;5;124m\"\u001b[39m] \u001b[38;5;241m=\u001b[39m \u001b[38;5;28mlist\u001b[39m()\n\u001b[0;32m    104\u001b[0m \u001b[38;5;28;01mfor\u001b[39;00m num_bins \u001b[38;5;129;01min\u001b[39;00m [\u001b[38;5;241m0\u001b[39m, \u001b[38;5;241m5\u001b[39m, \u001b[38;5;241m15\u001b[39m, \u001b[38;5;241m30\u001b[39m]:\n",
      "File \u001b[1;32md:\\src_git\\learn_ds\\.venv\\Lib\\site-packages\\sweetviz\\graph_numeric.py:71\u001b[0m, in \u001b[0;36mGraphNumeric.__init__\u001b[1;34m(self, which_graph, to_process)\u001b[0m\n\u001b[0;32m     67\u001b[0m     normalizing_weights \u001b[38;5;241m=\u001b[39m norm_source\n\u001b[0;32m     69\u001b[0m gap_percent \u001b[38;5;241m=\u001b[39m config[\u001b[38;5;124m\"\u001b[39m\u001b[38;5;124mGraphs\u001b[39m\u001b[38;5;124m\"\u001b[39m]\u001b[38;5;241m.\u001b[39mgetfloat(\u001b[38;5;124m\"\u001b[39m\u001b[38;5;124msummary_graph_categorical_gap\u001b[39m\u001b[38;5;124m\"\u001b[39m)\n\u001b[1;32m---> 71\u001b[0m warnings\u001b[38;5;241m.\u001b[39mfilterwarnings(\u001b[38;5;124m'\u001b[39m\u001b[38;5;124mignore\u001b[39m\u001b[38;5;124m'\u001b[39m, category\u001b[38;5;241m=\u001b[39m\u001b[43mnp\u001b[49m\u001b[38;5;241;43m.\u001b[39;49m\u001b[43mVisibleDeprecationWarning\u001b[49m)\n\u001b[0;32m     72\u001b[0m \u001b[38;5;28mself\u001b[39m\u001b[38;5;241m.\u001b[39mhist_specs \u001b[38;5;241m=\u001b[39m axs\u001b[38;5;241m.\u001b[39mhist(plot_data, weights \u001b[38;5;241m=\u001b[39m normalizing_weights, bins\u001b[38;5;241m=\u001b[39m\u001b[38;5;28mself\u001b[39m\u001b[38;5;241m.\u001b[39mnum_bins, \\\n\u001b[0;32m     73\u001b[0m                            rwidth \u001b[38;5;241m=\u001b[39m (\u001b[38;5;241m100.0\u001b[39m \u001b[38;5;241m-\u001b[39m gap_percent) \u001b[38;5;241m/\u001b[39m \u001b[38;5;241m100.0\u001b[39m)\n\u001b[0;32m     74\u001b[0m warnings\u001b[38;5;241m.\u001b[39mfilterwarnings(\u001b[38;5;124m'\u001b[39m\u001b[38;5;124monce\u001b[39m\u001b[38;5;124m'\u001b[39m, category\u001b[38;5;241m=\u001b[39mnp\u001b[38;5;241m.\u001b[39mVisibleDeprecationWarning)\n",
      "File \u001b[1;32md:\\src_git\\learn_ds\\.venv\\Lib\\site-packages\\numpy\\__init__.py:427\u001b[0m, in \u001b[0;36m__getattr__\u001b[1;34m(attr)\u001b[0m\n\u001b[0;32m    422\u001b[0m         \u001b[38;5;28;01mreturn\u001b[39;00m char\u001b[38;5;241m.\u001b[39mchararray\n\u001b[0;32m    424\u001b[0m     \u001b[38;5;28;01mraise\u001b[39;00m \u001b[38;5;167;01mAttributeError\u001b[39;00m(\u001b[38;5;124m\"\u001b[39m\u001b[38;5;124mmodule \u001b[39m\u001b[38;5;132;01m{!r}\u001b[39;00m\u001b[38;5;124m has no attribute \u001b[39m\u001b[38;5;124m\"\u001b[39m\n\u001b[0;32m    425\u001b[0m                          \u001b[38;5;124m\"\u001b[39m\u001b[38;5;132;01m{!r}\u001b[39;00m\u001b[38;5;124m\"\u001b[39m\u001b[38;5;241m.\u001b[39mformat(\u001b[38;5;18m__name__\u001b[39m, attr))\n\u001b[1;32m--> 427\u001b[0m \u001b[38;5;28;01mdef\u001b[39;00m \u001b[38;5;21m__dir__\u001b[39m():\n\u001b[0;32m    428\u001b[0m     public_symbols \u001b[38;5;241m=\u001b[39m (\n\u001b[0;32m    429\u001b[0m         \u001b[38;5;28mglobals\u001b[39m()\u001b[38;5;241m.\u001b[39mkeys() \u001b[38;5;241m|\u001b[39m __numpy_submodules__\n\u001b[0;32m    430\u001b[0m     )\n\u001b[0;32m    431\u001b[0m     public_symbols \u001b[38;5;241m-\u001b[39m\u001b[38;5;241m=\u001b[39m {\n\u001b[0;32m    432\u001b[0m         \u001b[38;5;124m\"\u001b[39m\u001b[38;5;124mmatrixlib\u001b[39m\u001b[38;5;124m\"\u001b[39m, \u001b[38;5;124m\"\u001b[39m\u001b[38;5;124mmatlib\u001b[39m\u001b[38;5;124m\"\u001b[39m, \u001b[38;5;124m\"\u001b[39m\u001b[38;5;124mtests\u001b[39m\u001b[38;5;124m\"\u001b[39m, \u001b[38;5;124m\"\u001b[39m\u001b[38;5;124mconftest\u001b[39m\u001b[38;5;124m\"\u001b[39m, \u001b[38;5;124m\"\u001b[39m\u001b[38;5;124mversion\u001b[39m\u001b[38;5;124m\"\u001b[39m, \n\u001b[0;32m    433\u001b[0m         \u001b[38;5;124m\"\u001b[39m\u001b[38;5;124mcompat\u001b[39m\u001b[38;5;124m\"\u001b[39m, \u001b[38;5;124m\"\u001b[39m\u001b[38;5;124mdistutils\u001b[39m\u001b[38;5;124m\"\u001b[39m, \u001b[38;5;124m\"\u001b[39m\u001b[38;5;124marray_api\u001b[39m\u001b[38;5;124m\"\u001b[39m\n\u001b[0;32m    434\u001b[0m     }\n",
      "\u001b[1;31mAttributeError\u001b[0m: module 'numpy' has no attribute 'VisibleDeprecationWarning'"
     ]
    },
    {
     "data": {
      "image/png": "[encoded data removed]",
      "text/plain": [
       "<Figure size 290x120 with 1 Axes>"
      ]
     },
     "metadata": {},
     "output_type": "display_data"
    }
   ],
   "source": [
    "# generate a report for each dataset\n",
    "movies_report = sv.analyze(movies)\n",
    "ratings_report = sv.analyze(ratings)"
   ]
  },
  {
   "cell_type": "code",
   "execution_count": null,
   "metadata": {},
   "outputs": [],
   "source": []
  }
 ],
 "metadata": {
  "kernelspec": {
   "display_name": ".venv",
   "language": "python",
   "name": "python3"
  },
  "language_info": {
   "codemirror_mode": {
    "name": "ipython",
    "version": 3
   },
   "file_extension": ".py",
   "mimetype": "text/x-python",
   "name": "python",
   "nbconvert_exporter": "python",
   "pygments_lexer": "ipython3",
   "version": "3.12.6"
  }
 },
 "nbformat": 4,
 "nbformat_minor": 2
}
