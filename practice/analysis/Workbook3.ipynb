{
 "cells": [
  {
   "cell_type": "code",
   "execution_count": null,
   "metadata": {},
   "outputs": [],
   "source": [
    "import pandas as pd"
   ]
  },
  {
   "cell_type": "code",
   "execution_count": null,
   "metadata": {},
   "outputs": [],
   "source": [
    "excel_file_path = '1.xlsx'  # loading\n",
    "csv_file_path = '1.csv'  # desired"
   ]
  },
  {
   "cell_type": "code",
   "execution_count": null,
   "metadata": {},
   "outputs": [],
   "source": [
    "df = pd.read_excel(excel_file_path)"
   ]
  },
  {
   "cell_type": "code",
   "execution_count": null,
   "metadata": {},
   "outputs": [],
   "source": [
    "df.to_csv(csv_file_path, index=False)"
   ]
  },
  {
   "cell_type": "code",
   "execution_count": null,
   "metadata": {},
   "outputs": [],
   "source": [
    "df.head(2)"
   ]
  },
  {
   "cell_type": "code",
   "execution_count": null,
   "metadata": {},
   "outputs": [],
   "source": [
    "df.columns"
   ]
  },
  {
   "cell_type": "code",
   "execution_count": null,
   "metadata": {},
   "outputs": [],
   "source": [
    "selected_columns = ['Class', 'Severity', 'Alarm State', 'Alert State', 'Alert Target', 'Target Pod', 'Last Updated (US/Eastern)', 'Created (US/Eastern)']\n",
    "df_selected = df[selected_columns]\n",
    "df_selected.head(2)"
   ]
  },
  {
   "cell_type": "code",
   "execution_count": null,
   "metadata": {},
   "outputs": [],
   "source": [
    "df_selected.to_csv('filtered.csv', index=False)\n",
    "df_selected.columns"
   ]
  },
  {
   "cell_type": "code",
   "execution_count": null,
   "metadata": {},
   "outputs": [],
   "source": [
    "df_selected.dtypes"
   ]
  },
  {
   "cell_type": "code",
   "execution_count": null,
   "metadata": {},
   "outputs": [],
   "source": [
    "df_selected.isnull().sum()"
   ]
  },
  {
   "cell_type": "code",
   "execution_count": null,
   "metadata": {},
   "outputs": [],
   "source": [
    "rows_any_null = df_selected[df_selected.isnull().any(axis=1)]\n",
    "rows_any_null"
   ]
  },
  {
   "cell_type": "code",
   "execution_count": null,
   "metadata": {},
   "outputs": [],
   "source": [
    "fill_value = 'No Data'\n",
    "df_selected['Alert Target'] = df_selected['Alert Target'].fillna(fill_value)"
   ]
  },
  {
   "cell_type": "code",
   "execution_count": null,
   "metadata": {},
   "outputs": [],
   "source": [
    "rows_any_null = df_selected[df_selected.isnull().any(axis=1)]\n",
    "rows_any_null"
   ]
  },
  {
   "cell_type": "code",
   "execution_count": null,
   "metadata": {},
   "outputs": [],
   "source": [
    "df_selected.isnull().sum()"
   ]
  },
  {
   "cell_type": "code",
   "execution_count": null,
   "metadata": {},
   "outputs": [],
   "source": [
    "df_selected.head(2)"
   ]
  },
  {
   "cell_type": "code",
   "execution_count": null,
   "metadata": {},
   "outputs": [],
   "source": [
    "new_column_names = ['class', 'severity', 'alarm_state', 'alert_state', 'alert_target', 'target_pod', 'last_updated', 'created']\n",
    "df_selected.columns = new_column_names"
   ]
  },
  {
   "cell_type": "code",
   "execution_count": null,
   "metadata": {},
   "outputs": [],
   "source": [
    "df_selected.columns"
   ]
  },
  {
   "cell_type": "code",
   "execution_count": null,
   "metadata": {},
   "outputs": [],
   "source": [
    "from pytz import timezone"
   ]
  },
  {
   "cell_type": "code",
   "execution_count": null,
   "metadata": {},
   "outputs": [],
   "source": [
    "configurable_tz = \"US/Eastern\""
   ]
  },
  {
   "cell_type": "code",
   "execution_count": null,
   "metadata": {},
   "outputs": [],
   "source": [
    "# Function to convert string to datetime with timezone\n",
    "def convert_to_datetime_with_tz(date_str, tz):\n",
    "    try:\n",
    "        # Convert string to datetime\n",
    "        datetime_obj = pd.to_datetime(date_str, format='%Y-%m-%d %H:%M:%S:%f %Z', errors='coerce')\n",
    "        # Localize to the given timezone\n",
    "        return datetime_obj.tz_localize(None).tz_localize(tz)\n",
    "    except Exception as e:\n",
    "        print(f\"Error converting {date_str}: {e}\")\n",
    "        return None"
   ]
  },
  {
   "cell_type": "code",
   "execution_count": null,
   "metadata": {},
   "outputs": [],
   "source": [
    "date_column = 'created'\n",
    "df_selected[date_column] = df_selected[date_column].apply(lambda x: convert_to_datetime_with_tz(x, timezone(configurable_tz)))"
   ]
  },
  {
   "cell_type": "code",
   "execution_count": null,
   "metadata": {},
   "outputs": [],
   "source": [
    "df_selected.dtypes"
   ]
  },
  {
   "cell_type": "code",
   "execution_count": null,
   "metadata": {},
   "outputs": [],
   "source": [
    "date_column = 'last_updated'\n",
    "df_selected[date_column] = df_selected[date_column].apply(lambda x: convert_to_datetime_with_tz(x, timezone(configurable_tz)))"
   ]
  },
  {
   "cell_type": "code",
   "execution_count": null,
   "metadata": {},
   "outputs": [],
   "source": [
    "df_selected.dtypes"
   ]
  },
  {
   "cell_type": "code",
   "execution_count": null,
   "metadata": {},
   "outputs": [],
   "source": [
    "df_selected.head(2)"
   ]
  },
  {
   "cell_type": "code",
   "execution_count": null,
   "metadata": {},
   "outputs": [],
   "source": [
    "date_column = 'created'\n",
    "df_selected[date_column] = pd.to_datetime(df_selected[date_column], format='%Y-%m-%d %H:%M:%S:%f %Z', errors='coerce')"
   ]
  },
  {
   "cell_type": "code",
   "execution_count": null,
   "metadata": {},
   "outputs": [],
   "source": [
    "df_selected.head(2)"
   ]
  },
  {
   "cell_type": "code",
   "execution_count": null,
   "metadata": {},
   "outputs": [],
   "source": [
    "# Round the datetime to the nearest hour\n",
    "df_selected['RoundedHour'] = df_selected[date_column].dt.floor('H')"
   ]
  },
  {
   "cell_type": "code",
   "execution_count": null,
   "metadata": {},
   "outputs": [],
   "source": [
    "df_selected.head(2)"
   ]
  },
  {
   "cell_type": "code",
   "execution_count": null,
   "metadata": {},
   "outputs": [],
   "source": [
    "# Group by the rounded hour and count occurrences\n",
    "alert_counts = df_selected.groupby('RoundedHour').size().reset_index(name='AlertCount')"
   ]
  },
  {
   "cell_type": "code",
   "execution_count": null,
   "metadata": {},
   "outputs": [],
   "source": [
    "import matplotlib.pyplot as plt"
   ]
  },
  {
   "cell_type": "code",
   "execution_count": null,
   "metadata": {},
   "outputs": [],
   "source": [
    "# Prepare the plot\n",
    "fig, ax = plt.subplots(figsize=(12, 6))\n",
    "\n",
    "# Plot the data\n",
    "ax.plot(alert_counts['RoundedHour'], alert_counts['AlertCount'], marker='o', linestyle='-', label='Alert Count')\n",
    "\n",
    "# Create the checkered grid layout\n",
    "start_time = alert_counts['RoundedHour'].min()\n",
    "end_time = alert_counts['RoundedHour'].max()\n",
    "\n",
    "# Define the grid intervals\n",
    "hourly_intervals = pd.date_range(start=start_time, end=end_time, freq='H')  # Hourly ticks\n",
    "daily_intervals = pd.date_range(start=start_time, end=end_time, freq='D')  # Daily ticks\n",
    "\n",
    "# Add hour numbers (0-23) for each day\n",
    "hour_labels = [hour % 24 for hour in range(len(hourly_intervals))]  # Cycle through 0-23\n",
    "\n",
    "# Set ticks for a fine grid\n",
    "ax.set_xticks(hourly_intervals, minor=True)  # Minor ticks for each hour\n",
    "ax.set_xticks(daily_intervals, minor=False)  # Major ticks for each day\n",
    "ax.set_xticklabels([label.strftime('%Y-%m-%d') for label in daily_intervals], rotation=45)  # Show dates on major ticks\n",
    "ax.set_xticks(hourly_intervals, minor=True)  # Set minor ticks for hours\n",
    "ax.set_xticklabels(hour_labels, minor=True)  # Add hour numbers for minor ticks\n",
    "\n",
    "# Adjust the font size of the hour numbers (minor ticks)\n",
    "hour_font_size = 4  # Change this to adjust the font size\n",
    "ax.tick_params(axis='x', which='minor', labelsize=hour_font_size)\n",
    "\n",
    "# Enable gridlines\n",
    "ax.grid(which='minor', linestyle=':', linewidth=0.5, color='gray')  # Hourly grid\n",
    "ax.grid(which='major', linestyle='--', linewidth=0.8, color='black')  # Daily grid\n",
    "\n",
    "# Add labels and title\n",
    "ax.set_title('Alert Count per Hour with Adjustable Hour Number Size')\n",
    "ax.set_xlabel('Time')\n",
    "ax.set_ylabel('Alert Count')\n",
    "plt.legend()\n",
    "\n",
    "# Tight layout and show\n",
    "plt.tight_layout()\n",
    "plt.show()"
   ]
  },
  {
   "cell_type": "code",
   "execution_count": null,
   "metadata": {},
   "outputs": [],
   "source": [
    "df_selected.head(2)"
   ]
  },
  {
   "cell_type": "code",
   "execution_count": null,
   "metadata": {},
   "outputs": [],
   "source": [
    "# Group by 'RoundedHour' and 'Target Pod' and count occurrences\n",
    "target_pod_counts = df_selected.groupby(['RoundedHour', 'target_pod']).size().reset_index(name='AlertCount')\n",
    "\n",
    "# Pivot the data for plotting (Target Pods as separate lines)\n",
    "pivoted_data = target_pod_counts.pivot(index='RoundedHour', columns='target_pod', values='AlertCount').fillna(0)"
   ]
  },
  {
   "cell_type": "code",
   "execution_count": null,
   "metadata": {},
   "outputs": [],
   "source": [
    "# Plot the data\n",
    "fig, ax = plt.subplots(figsize=(36, 18))\n",
    "\n",
    "for target_pod in pivoted_data.columns:\n",
    "    ax.plot(\n",
    "        pivoted_data.index, \n",
    "        pivoted_data[target_pod], \n",
    "        marker='o', \n",
    "        linestyle='-', \n",
    "        label=f'Target Pod: {target_pod}'\n",
    "    )\n",
    "\n",
    "# Create the checkered grid layout\n",
    "start_time = pivoted_data.index.min()\n",
    "end_time = pivoted_data.index.max()\n",
    "\n",
    "# Define the grid intervals\n",
    "hourly_intervals = pd.date_range(start=start_time, end=end_time, freq='H')  # Hourly ticks\n",
    "daily_intervals = pd.date_range(start=start_time, end=end_time, freq='D')  # Daily ticks\n",
    "\n",
    "# Add hour numbers (0-23) for each day\n",
    "hour_labels = [hour % 24 for hour in range(len(hourly_intervals))]  # Cycle through 0-23\n",
    "\n",
    "# Set ticks for a fine grid\n",
    "ax.set_xticks(hourly_intervals, minor=True)  # Minor ticks for each hour\n",
    "ax.set_xticks(daily_intervals, minor=False)  # Major ticks for each day\n",
    "ax.set_xticklabels([label.strftime('%Y-%m-%d') for label in daily_intervals], rotation=45)  # Show dates on major ticks\n",
    "ax.set_xticks(hourly_intervals, minor=True)  # Set minor ticks for hours\n",
    "ax.set_xticklabels(hour_labels, minor=True)  # Add hour numbers for minor ticks\n",
    "\n",
    "# Adjust the font size of the hour numbers (minor ticks)\n",
    "hour_font_size = 10  # Change this to adjust the font size\n",
    "ax.tick_params(axis='x', which='minor', labelsize=hour_font_size)\n",
    "\n",
    "# Enable gridlines\n",
    "ax.grid(which='minor', linestyle=':', linewidth=0.5, color='gray')  # Hourly grid\n",
    "ax.grid(which='major', linestyle='--', linewidth=0.8, color='black')  # Daily grid\n",
    "\n",
    "# Add labels and title\n",
    "ax.set_title('Alert Count per Hour by Target Pod')\n",
    "ax.set_xlabel('Time')\n",
    "ax.set_ylabel('Alert Count')\n",
    "plt.legend(title='Target Pods')\n",
    "\n",
    "# Tight layout and show\n",
    "plt.tight_layout()\n",
    "plt.show()"
   ]
  },
  {
   "cell_type": "code",
   "execution_count": null,
   "metadata": {},
   "outputs": [],
   "source": [
    "df_selected.head(2)"
   ]
  },
  {
   "cell_type": "code",
   "execution_count": null,
   "metadata": {},
   "outputs": [],
   "source": [
    "# Group by 'RoundedHour' and 'Alert Target' and count occurrences\n",
    "alert_target_counts = df_selected.groupby(['RoundedHour', 'alert_target']).size().reset_index(name='AlertCount')\n",
    "\n",
    "# Pivot the data for plotting (Alert Targets as separate lines)\n",
    "pivoted_data = alert_target_counts.pivot(index='RoundedHour', columns='alert_target', values='AlertCount').fillna(0)\n"
   ]
  },
  {
   "cell_type": "code",
   "execution_count": null,
   "metadata": {},
   "outputs": [],
   "source": [
    "import numpy as np"
   ]
  },
  {
   "cell_type": "code",
   "execution_count": null,
   "metadata": {},
   "outputs": [],
   "source": [
    "# Plot the bar graph\n",
    "fig, ax = plt.subplots(figsize=(42, 21))\n",
    "\n",
    "# Define bar positions\n",
    "bar_width = 0.1  # Width of each bar\n",
    "x_indices = np.arange(len(pivoted_data.index))  # X positions for the bars\n",
    "offset = 0  # Offset for each Alert Target\n",
    "\n",
    "# Add bars for each Alert Target\n",
    "for idx, alert_target in enumerate(pivoted_data.columns):\n",
    "    ax.bar(\n",
    "        x_indices + offset, \n",
    "        pivoted_data[alert_target], \n",
    "        width=bar_width, \n",
    "        label=f'Alert Target: {alert_target}'\n",
    "    )\n",
    "    offset += bar_width  # Shift the next bar group horizontally\n",
    "\n",
    "# Format the x-axis\n",
    "ax.set_xticks(x_indices + bar_width * (len(pivoted_data.columns) - 1) / 2)  # Center ticks\n",
    "ax.set_xticklabels(pivoted_data.index.strftime('%Y-%m-%d %H:%M'), rotation=45)\n",
    "\n",
    "# Add gridlines and labels\n",
    "ax.grid(axis='y', linestyle='--', linewidth=0.5, color='gray')\n",
    "ax.set_title('Alert Count per Hour by Alert Target (Bar Graph)')\n",
    "ax.set_xlabel('Time')\n",
    "ax.set_ylabel('Alert Count')\n",
    "ax.legend(title='Alert Targets')\n",
    "\n",
    "# Tight layout and show\n",
    "plt.tight_layout()\n",
    "plt.show()"
   ]
  },
  {
   "cell_type": "code",
   "execution_count": null,
   "metadata": {},
   "outputs": [],
   "source": []
  }
 ],
 "metadata": {
  "kernelspec": {
   "display_name": ".conda",
   "language": "python",
   "name": "python3"
  },
  "language_info": {
   "codemirror_mode": {
    "name": "ipython",
    "version": 3
   },
   "file_extension": ".py",
   "mimetype": "text/x-python",
   "name": "python",
   "nbconvert_exporter": "python",
   "pygments_lexer": "ipython3",
   "version": "3.11.10"
  }
 },
 "nbformat": 4,
 "nbformat_minor": 2
}
