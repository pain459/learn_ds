{
 "cells": [
  {
   "cell_type": "code",
   "execution_count": null,
   "metadata": {},
   "outputs": [],
   "source": [
    "import pandas as pd\n",
    "import pytz\n",
    "import matplotlib.pyplot as plt"
   ]
  },
  {
   "cell_type": "code",
   "execution_count": null,
   "metadata": {},
   "outputs": [],
   "source": [
    "df = pd.read_excel('1.xlsx',  index_col=0)\n",
    "df.head(2)"
   ]
  },
  {
   "cell_type": "code",
   "execution_count": null,
   "metadata": {},
   "outputs": [],
   "source": [
    "# Step 2: Convert `Created (US/Eastern)` to datetime and localize to `US/Eastern`\n",
    "df['Created (US/Eastern)'] = pd.to_datetime(\n",
    "    df['Created (US/Eastern)'].str[:-12],  # Remove `US/Eastern` text\n",
    "    format=\"%Y-%m-%d %H:%M:%S:%f\"\n",
    ").dt.tz_localize('US/Eastern')  # Add timezone information"
   ]
  },
  {
   "cell_type": "code",
   "execution_count": null,
   "metadata": {},
   "outputs": [],
   "source": [
    "# Step 3: Convert to local time (keeping US/Eastern unchanged)\n",
    "df['Created (Local)'] = df['Created (US/Eastern)'].dt.tz_convert('US/Eastern')"
   ]
  },
  {
   "cell_type": "code",
   "execution_count": null,
   "metadata": {},
   "outputs": [],
   "source": [
    "# Step 4: Extract the time and date for grouping\n",
    "df['Created Time'] = df['Created (Local)'].dt.time  # Extract time for daily trends\n",
    "df['Created Day'] = df['Created (Local)'].dt.date  # Extract date for separate graphs"
   ]
  },
  {
   "cell_type": "code",
   "execution_count": null,
   "metadata": {},
   "outputs": [],
   "source": [
    "# Graph 1: Alerts over 7 days (Days on x-axis and count on y-axis)\n",
    "alerts_per_day = df.groupby('Created Day').size()\n",
    "\n",
    "plt.figure(figsize=(10, 6))\n",
    "alerts_per_day.plot(kind='bar', color='skyblue', edgecolor='black')\n",
    "plt.title(\"Alerts Over 7 Days\")\n",
    "plt.xlabel(\"Date\")\n",
    "plt.ylabel(\"Number of Alerts\")\n",
    "plt.xticks(rotation=45)\n",
    "plt.grid(axis='y')\n",
    "plt.tight_layout()\n",
    "plt.show()"
   ]
  },
  {
   "cell_type": "code",
   "execution_count": null,
   "metadata": {},
   "outputs": [],
   "source": [
    "# Graph 2: Alerts per day in separate graphs (Time on x-axis and count on y-axis)\n",
    "unique_days = df['Created Day'].unique()\n",
    "fig, axes = plt.subplots(nrows=7, ncols=1, figsize=(10, 30), sharex=True)\n",
    "\n",
    "for i, day in enumerate(unique_days[:7]):  # Limit to 7 days if more exist\n",
    "    daily_data = df[df['Created Day'] == day]\n",
    "    # Count alerts by time for visualization\n",
    "    time_count = daily_data.groupby('Created Time').size()\n",
    "    \n",
    "    # Convert `datetime.time` to strings for plotting\n",
    "    time_count.index = time_count.index.astype(str)\n",
    "    \n",
    "    # Plotting\n",
    "    axes[i].plot(time_count.index, time_count.values, marker='o', label=str(day))\n",
    "    axes[i].set_title(f\"Alerts on {day}\")\n",
    "    axes[i].set_ylabel(\"Count of Alerts\")\n",
    "    axes[i].tick_params(axis='x', rotation=45)  # Rotate x-axis labels for readability\n",
    "    axes[i].grid(True)\n",
    "    axes[i].legend()"
   ]
  },
  {
   "cell_type": "code",
   "execution_count": null,
   "metadata": {},
   "outputs": [],
   "source": [
    "# Final adjustments to layout\n",
    "plt.xlabel(\"Time (US/Eastern)\")\n",
    "plt.tight_layout()\n",
    "plt.show()"
   ]
  },
  {
   "cell_type": "code",
   "execution_count": null,
   "metadata": {},
   "outputs": [],
   "source": []
  }
 ],
 "metadata": {
  "kernelspec": {
   "display_name": ".conda",
   "language": "python",
   "name": "python3"
  },
  "language_info": {
   "codemirror_mode": {
    "name": "ipython",
    "version": 3
   },
   "file_extension": ".py",
   "mimetype": "text/x-python",
   "name": "python",
   "nbconvert_exporter": "python",
   "pygments_lexer": "ipython3",
   "version": "3.11.10"
  }
 },
 "nbformat": 4,
 "nbformat_minor": 2
}
