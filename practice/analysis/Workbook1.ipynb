{
 "cells": [
  {
   "cell_type": "code",
   "execution_count": null,
   "metadata": {},
   "outputs": [],
   "source": [
    "import pandas as pd\n",
    "import openpyxl\n",
    "import matplotlib.pyplot as plt\n",
    "import pytz"
   ]
  },
  {
   "cell_type": "code",
   "execution_count": null,
   "metadata": {},
   "outputs": [],
   "source": [
    "df = pd.read_excel('1.xlsx')\n",
    "df.head(2)"
   ]
  },
  {
   "cell_type": "code",
   "execution_count": null,
   "metadata": {},
   "outputs": [],
   "source": [
    "df.isnull().sum()"
   ]
  },
  {
   "cell_type": "code",
   "execution_count": null,
   "metadata": {},
   "outputs": [],
   "source": [
    "df.dtypes"
   ]
  },
  {
   "cell_type": "code",
   "execution_count": null,
   "metadata": {},
   "outputs": [],
   "source": [
    "df.columns"
   ]
  },
  {
   "cell_type": "code",
   "execution_count": null,
   "metadata": {},
   "outputs": [],
   "source": [
    "# Modify the dataset to strip out the timezone string and adjust for milliseconds\n",
    "df['Created (US/Eastern)'] = pd.to_datetime(\n",
    "    df['Created (US/Eastern)'].str[:-12],  # Removing the \"US/Eastern\" part\n",
    "    format=\"%Y-%m-%d %H:%M:%S:%f\"\n",
    ").dt.tz_localize('US/Eastern')  # Localizing to US/Eastern"
   ]
  },
  {
   "cell_type": "code",
   "execution_count": null,
   "metadata": {},
   "outputs": [],
   "source": [
    "# Step 2: Convert to local time (assuming the system is set to UTC for this example)\n",
    "df['Created (Local)'] = df['Created (US/Eastern)'].dt.tz_convert('US/Eastern')"
   ]
  },
  {
   "cell_type": "code",
   "execution_count": null,
   "metadata": {},
   "outputs": [],
   "source": [
    "# Step 3: Extract the date from the local time\n",
    "df['Created Date'] = df['Created (Local)'].dt.date"
   ]
  },
  {
   "cell_type": "code",
   "execution_count": null,
   "metadata": {},
   "outputs": [],
   "source": [
    "# Step 4: Group by date and count the occurrences\n",
    "alerts_per_day = df.groupby('Created Date').size()"
   ]
  },
  {
   "cell_type": "code",
   "execution_count": null,
   "metadata": {},
   "outputs": [],
   "source": [
    "# Step 5: Plot the results\n",
    "plt.figure(figsize=(10, 6))\n",
    "alerts_per_day.plot(kind='line', marker='o', color='blue')\n",
    "plt.title(\"Alerts Created Per Day\")\n",
    "plt.xlabel(\"Date\")\n",
    "plt.ylabel(\"Number of Alerts\")\n",
    "plt.grid(True)\n",
    "plt.tight_layout()\n",
    "plt.show()"
   ]
  },
  {
   "cell_type": "code",
   "execution_count": null,
   "metadata": {},
   "outputs": [],
   "source": [
    "# Step 4: Extract the time and date for grouping\n",
    "df['Created Time'] = df['Created (Local)'].dt.time  # Extract time for daily trends\n",
    "df['Created Day'] = df['Created (Local)'].dt.date  # Extract date for separate graphs"
   ]
  },
  {
   "cell_type": "code",
   "execution_count": null,
   "metadata": {},
   "outputs": [],
   "source": [
    "# Step 5: Create subplots for each day\n",
    "fig, axes = plt.subplots(nrows=7, ncols=1, figsize=(10, 30), sharex=True)"
   ]
  },
  {
   "cell_type": "code",
   "execution_count": null,
   "metadata": {},
   "outputs": [],
   "source": [
    "for i, day in enumerate(unique_days[:7]):  # Limit to 7 days if more exist\n",
    "    daily_data = df[df['Created Day'] == day]\n",
    "    # Count alerts by time for visualization\n",
    "    time_count = daily_data.groupby('Created Time').size()\n",
    "    \n",
    "    # Convert `datetime.time` to strings for plotting\n",
    "    time_count.index = time_count.index.astype(str)\n",
    "    \n",
    "    # Plotting\n",
    "    axes[i].plot(time_count.index, time_count.values, marker='o', label=str(day))\n",
    "    axes[i].set_title(f\"Alerts on {day}\")\n",
    "    axes[i].set_ylabel(\"Count of Alerts\")\n",
    "    axes[i].tick_params(axis='x', rotation=45)  # Rotate x-axis labels for readability\n",
    "    axes[i].grid(True)\n",
    "    axes[i].legend()\n",
    "\n",
    "# Final adjustments to layout\n",
    "plt.xlabel(\"Time (US/Eastern)\")\n",
    "plt.tight_layout()\n",
    "plt.show()"
   ]
  },
  {
   "cell_type": "code",
   "execution_count": null,
   "metadata": {},
   "outputs": [],
   "source": []
  }
 ],
 "metadata": {
  "kernelspec": {
   "display_name": ".conda",
   "language": "python",
   "name": "python3"
  },
  "language_info": {
   "codemirror_mode": {
    "name": "ipython",
    "version": 3
   },
   "file_extension": ".py",
   "mimetype": "text/x-python",
   "name": "python",
   "nbconvert_exporter": "python",
   "pygments_lexer": "ipython3",
   "version": "3.11.10"
  }
 },
 "nbformat": 4,
 "nbformat_minor": 2
}
