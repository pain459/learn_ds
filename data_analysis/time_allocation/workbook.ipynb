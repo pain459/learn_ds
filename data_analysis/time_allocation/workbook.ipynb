{
 "cells": [
  {
   "cell_type": "code",
   "execution_count": 6,
   "id": "7f9d3ceb",
   "metadata": {},
   "outputs": [
    {
     "name": "stdout",
     "output_type": "stream",
     "text": [
      "Columns: Index(['task', 'budget'], dtype='object')\n",
      "    task  budget\n",
      "0   ask1     0.5\n",
      "1  task2     1.5\n",
      "2  task3     2.0\n",
      "3  task4    15.0\n",
      "Total budget: 19.0\n"
     ]
    }
   ],
   "source": [
    "import pandas as pd\n",
    "\n",
    "# Load CSV\n",
    "budgets_df = pd.read_csv('budgets.csv')\n",
    "\n",
    "# Strip any accidental spaces in column names\n",
    "budgets_df.columns = budgets_df.columns.str.strip()\n",
    "\n",
    "# Check column names\n",
    "print(\"Columns:\", budgets_df.columns)\n",
    "\n",
    "# Display DataFrame\n",
    "print(budgets_df)\n",
    "\n",
    "# Sum budget\n",
    "total_budget = budgets_df['budget'].sum()\n",
    "print(f\"Total budget: {total_budget}\")\n"
   ]
  },
  {
   "cell_type": "code",
   "execution_count": null,
   "id": "443a7a3c",
   "metadata": {},
   "outputs": [],
   "source": []
  }
 ],
 "metadata": {
  "kernelspec": {
   "display_name": ".venv",
   "language": "python",
   "name": "python3"
  },
  "language_info": {
   "codemirror_mode": {
    "name": "ipython",
    "version": 3
   },
   "file_extension": ".py",
   "mimetype": "text/x-python",
   "name": "python",
   "nbconvert_exporter": "python",
   "pygments_lexer": "ipython3",
   "version": "3.12.3"
  }
 },
 "nbformat": 4,
 "nbformat_minor": 5
}
