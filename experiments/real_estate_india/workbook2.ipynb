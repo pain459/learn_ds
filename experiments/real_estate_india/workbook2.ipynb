{
 "cells": [
  {
   "cell_type": "markdown",
   "metadata": {},
   "source": [
    "### Focussing on data cleaning tis and tricks"
   ]
  },
  {
   "cell_type": "code",
   "execution_count": 2,
   "metadata": {},
   "outputs": [],
   "source": [
    "import numpy as np\n",
    "import pandas as pd\n",
    "\n",
    "import warnings\n",
    "warnings.filterwarnings('ignore')"
   ]
  },
  {
   "cell_type": "code",
   "execution_count": 3,
   "metadata": {},
   "outputs": [
    {
     "data": {
      "text/html": [
       "<div>\n",
       "<style scoped>\n",
       "    .dataframe tbody tr th:only-of-type {\n",
       "        vertical-align: middle;\n",
       "    }\n",
       "\n",
       "    .dataframe tbody tr th {\n",
       "        vertical-align: top;\n",
       "    }\n",
       "\n",
       "    .dataframe thead th {\n",
       "        text-align: right;\n",
       "    }\n",
       "</style>\n",
       "<table border=\"1\" class=\"dataframe\">\n",
       "  <thead>\n",
       "    <tr style=\"text-align: right;\">\n",
       "      <th></th>\n",
       "      <th>Name</th>\n",
       "      <th>Property Title</th>\n",
       "      <th>Price</th>\n",
       "      <th>Location</th>\n",
       "      <th>Total_Area</th>\n",
       "      <th>Price_per_SQFT</th>\n",
       "      <th>Description</th>\n",
       "      <th>Baths</th>\n",
       "      <th>Balcony</th>\n",
       "    </tr>\n",
       "  </thead>\n",
       "  <tbody>\n",
       "    <tr>\n",
       "      <th>0</th>\n",
       "      <td>Casagrand ECR 14</td>\n",
       "      <td>4 BHK Flat for sale in Kanathur Reddikuppam, C...</td>\n",
       "      <td>₹1.99 Cr</td>\n",
       "      <td>Kanathur Reddikuppam, Chennai</td>\n",
       "      <td>2583</td>\n",
       "      <td>7700.0</td>\n",
       "      <td>Best 4 BHK Apartment for modern-day lifestyle ...</td>\n",
       "      <td>4</td>\n",
       "      <td>Yes</td>\n",
       "    </tr>\n",
       "    <tr>\n",
       "      <th>1</th>\n",
       "      <td>Ramanathan Nagar, Pozhichalur,Chennai</td>\n",
       "      <td>10 BHK Independent House for sale in Pozhichal...</td>\n",
       "      <td>₹2.25 Cr</td>\n",
       "      <td>Ramanathan Nagar, Pozhichalur,Chennai</td>\n",
       "      <td>7000</td>\n",
       "      <td>3210.0</td>\n",
       "      <td>Looking for a 10 BHK Independent House for sal...</td>\n",
       "      <td>6</td>\n",
       "      <td>Yes</td>\n",
       "    </tr>\n",
       "    <tr>\n",
       "      <th>2</th>\n",
       "      <td>DAC Prapthi</td>\n",
       "      <td>3 BHK Flat for sale in West Tambaram, Chennai</td>\n",
       "      <td>₹1.0 Cr</td>\n",
       "      <td>Kasthuribai Nagar, West Tambaram,Chennai</td>\n",
       "      <td>1320</td>\n",
       "      <td>7580.0</td>\n",
       "      <td>Property for sale in Tambaram, Chennai. This 3...</td>\n",
       "      <td>3</td>\n",
       "      <td>No</td>\n",
       "    </tr>\n",
       "    <tr>\n",
       "      <th>3</th>\n",
       "      <td>Naveenilaya,Chepauk, Triplicane,Chennai</td>\n",
       "      <td>7 BHK Independent House for sale in Triplicane...</td>\n",
       "      <td>₹3.33 Cr</td>\n",
       "      <td>Naveenilaya,Chepauk, Triplicane,Chennai</td>\n",
       "      <td>4250</td>\n",
       "      <td>7840.0</td>\n",
       "      <td>Entire Building for sale with 7 units of singl...</td>\n",
       "      <td>5</td>\n",
       "      <td>Yes</td>\n",
       "    </tr>\n",
       "    <tr>\n",
       "      <th>4</th>\n",
       "      <td>VGN Spring Field Phase 1</td>\n",
       "      <td>2 BHK Flat for sale in Avadi, Chennai</td>\n",
       "      <td>₹48.0 L</td>\n",
       "      <td>Avadi, Chennai</td>\n",
       "      <td>960</td>\n",
       "      <td>5000.0</td>\n",
       "      <td>Property for sale in Avadi, Chennai. This 2 BH...</td>\n",
       "      <td>3</td>\n",
       "      <td>Yes</td>\n",
       "    </tr>\n",
       "  </tbody>\n",
       "</table>\n",
       "</div>"
      ],
      "text/plain": [
       "                                      Name  \\\n",
       "0                         Casagrand ECR 14   \n",
       "1    Ramanathan Nagar, Pozhichalur,Chennai   \n",
       "2                              DAC Prapthi   \n",
       "3  Naveenilaya,Chepauk, Triplicane,Chennai   \n",
       "4                 VGN Spring Field Phase 1   \n",
       "\n",
       "                                      Property Title     Price  \\\n",
       "0  4 BHK Flat for sale in Kanathur Reddikuppam, C...  ₹1.99 Cr   \n",
       "1  10 BHK Independent House for sale in Pozhichal...  ₹2.25 Cr   \n",
       "2      3 BHK Flat for sale in West Tambaram, Chennai   ₹1.0 Cr   \n",
       "3  7 BHK Independent House for sale in Triplicane...  ₹3.33 Cr   \n",
       "4              2 BHK Flat for sale in Avadi, Chennai   ₹48.0 L   \n",
       "\n",
       "                                   Location  Total_Area  Price_per_SQFT  \\\n",
       "0             Kanathur Reddikuppam, Chennai        2583          7700.0   \n",
       "1     Ramanathan Nagar, Pozhichalur,Chennai        7000          3210.0   \n",
       "2  Kasthuribai Nagar, West Tambaram,Chennai        1320          7580.0   \n",
       "3   Naveenilaya,Chepauk, Triplicane,Chennai        4250          7840.0   \n",
       "4                            Avadi, Chennai         960          5000.0   \n",
       "\n",
       "                                         Description  Baths Balcony  \n",
       "0  Best 4 BHK Apartment for modern-day lifestyle ...      4     Yes  \n",
       "1  Looking for a 10 BHK Independent House for sal...      6     Yes  \n",
       "2  Property for sale in Tambaram, Chennai. This 3...      3      No  \n",
       "3  Entire Building for sale with 7 units of singl...      5     Yes  \n",
       "4  Property for sale in Avadi, Chennai. This 2 BH...      3     Yes  "
      ]
     },
     "execution_count": 3,
     "metadata": {},
     "output_type": "execute_result"
    }
   ],
   "source": [
    "df = pd.read_csv(\"real-estate-india.csv\")\n",
    "df.head()"
   ]
  },
  {
   "cell_type": "markdown",
   "metadata": {},
   "source": [
    "Here, at the first glance we can see,\n",
    "1) We need to extract BHK from the \"Property Title\" column and make it as a seperate column,\n",
    "\n",
    "2) For few rows we have same \"Name\" in name and \"Location\" columns, which needs to be sorted out\n",
    "\n",
    "3) Property Type column should be made from the data present in Property Title column,\n",
    "\n",
    "4) Then, The \"Price\" column are in strings which should be converted to numerical values,\n",
    "\n",
    "5) City names should be xtracted and made into a seperate column."
   ]
  },
  {
   "cell_type": "code",
   "execution_count": 4,
   "metadata": {},
   "outputs": [],
   "source": [
    "# Duplicating the data frame to deal with errors later\n",
    "df2 = df"
   ]
  },
  {
   "cell_type": "code",
   "execution_count": 6,
   "metadata": {},
   "outputs": [
    {
     "data": {
      "text/plain": [
       "(14528, 9)"
      ]
     },
     "execution_count": 6,
     "metadata": {},
     "output_type": "execute_result"
    }
   ],
   "source": [
    "df2.shape"
   ]
  },
  {
   "cell_type": "code",
   "execution_count": 7,
   "metadata": {},
   "outputs": [
    {
     "data": {
      "text/plain": [
       "14528"
      ]
     },
     "execution_count": 7,
     "metadata": {},
     "output_type": "execute_result"
    }
   ],
   "source": [
    "len(df2)"
   ]
  },
  {
   "cell_type": "code",
   "execution_count": 8,
   "metadata": {},
   "outputs": [],
   "source": [
    "# Capturing BHK values in a seperate list\n",
    "BHK = []\n",
    "for i in range(0, len(df2)):\n",
    "    BHK.append(df2[\"Property Title\"][i][:2])\n",
    "\n",
    "# Assigning the list to a new column called \"Bedrooms\"\n",
    "df2[\"Bedrooms\"] = BHK"
   ]
  },
  {
   "cell_type": "code",
   "execution_count": 12,
   "metadata": {},
   "outputs": [
    {
     "data": {
      "text/plain": [
       "(0    4 \n",
       " 1    10\n",
       " 2    3 \n",
       " 3    7 \n",
       " 4    2 \n",
       " Name: Bedrooms, dtype: object,\n",
       " count     14528\n",
       " unique       20\n",
       " top          2 \n",
       " freq       5691\n",
       " Name: Bedrooms, dtype: object)"
      ]
     },
     "execution_count": 12,
     "metadata": {},
     "output_type": "execute_result"
    }
   ],
   "source": [
    "df2[\"Bedrooms\"].head(), df2[\"Bedrooms\"].describe()"
   ]
  },
  {
   "cell_type": "code",
   "execution_count": 20,
   "metadata": {},
   "outputs": [],
   "source": [
    "# Replacing the errors, misspelt, or unwanted symbols in the 'Bedroom' column\n",
    "df2[\"Bedrooms\"] = df2[\"Bedrooms\"].str.replace(\".\",\"\")\n",
    "df2[\"Bedrooms\"] = df2[\"Bedrooms\"].str.replace(\"+\",\"\")\n",
    "df2[\"Bedrooms\"] = df2[\"Bedrooms\"].str.replace(\"St\",\"\")\n",
    "df2[\"Bedrooms\"] = df2[\"Bedrooms\"].str.replace(\"\",\"\")\n",
    "\n",
    "# lets duplicate the Dataframe one more time\n",
    "df3 = df2"
   ]
  },
  {
   "cell_type": "code",
   "execution_count": 21,
   "metadata": {},
   "outputs": [
    {
     "data": {
      "text/plain": [
       "Bedrooms\n",
       "2     5691\n",
       "1     3270\n",
       "3     3132\n",
       "4      990\n",
       "5      438\n",
       "6      296\n",
       "10     200\n",
       "7      143\n",
       "8      132\n",
       "9       78\n",
       "3       44\n",
       "1       30\n",
       "2       30\n",
       "5       24\n",
       "        11\n",
       "4       10\n",
       "9        4\n",
       "8        2\n",
       "7        2\n",
       "Sh       1\n",
       "Name: count, dtype: int64"
      ]
     },
     "execution_count": 21,
     "metadata": {},
     "output_type": "execute_result"
    }
   ],
   "source": [
    "df3[\"Bedrooms\"].value_counts()"
   ]
  },
  {
   "cell_type": "code",
   "execution_count": null,
   "metadata": {},
   "outputs": [],
   "source": []
  }
 ],
 "metadata": {
  "kernelspec": {
   "display_name": "env",
   "language": "python",
   "name": "python3"
  },
  "language_info": {
   "codemirror_mode": {
    "name": "ipython",
    "version": 3
   },
   "file_extension": ".py",
   "mimetype": "text/x-python",
   "name": "python",
   "nbconvert_exporter": "python",
   "pygments_lexer": "ipython3",
   "version": "3.12.2"
  }
 },
 "nbformat": 4,
 "nbformat_minor": 2
}
