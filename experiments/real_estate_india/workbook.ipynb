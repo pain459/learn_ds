{
 "cells": [
  {
   "cell_type": "code",
   "execution_count": 1,
   "metadata": {},
   "outputs": [],
   "source": [
    "import pandas as pd"
   ]
  },
  {
   "cell_type": "code",
   "execution_count": 2,
   "metadata": {},
   "outputs": [
    {
     "data": {
      "text/html": [
       "<div>\n",
       "<style scoped>\n",
       "    .dataframe tbody tr th:only-of-type {\n",
       "        vertical-align: middle;\n",
       "    }\n",
       "\n",
       "    .dataframe tbody tr th {\n",
       "        vertical-align: top;\n",
       "    }\n",
       "\n",
       "    .dataframe thead th {\n",
       "        text-align: right;\n",
       "    }\n",
       "</style>\n",
       "<table border=\"1\" class=\"dataframe\">\n",
       "  <thead>\n",
       "    <tr style=\"text-align: right;\">\n",
       "      <th></th>\n",
       "      <th>Name</th>\n",
       "      <th>Property Title</th>\n",
       "      <th>Price</th>\n",
       "      <th>Location</th>\n",
       "      <th>Total_Area</th>\n",
       "      <th>Price_per_SQFT</th>\n",
       "      <th>Description</th>\n",
       "      <th>Baths</th>\n",
       "      <th>Balcony</th>\n",
       "    </tr>\n",
       "  </thead>\n",
       "  <tbody>\n",
       "    <tr>\n",
       "      <th>0</th>\n",
       "      <td>Casagrand ECR 14</td>\n",
       "      <td>4 BHK Flat for sale in Kanathur Reddikuppam, C...</td>\n",
       "      <td>₹1.99 Cr</td>\n",
       "      <td>Kanathur Reddikuppam, Chennai</td>\n",
       "      <td>2583</td>\n",
       "      <td>7700.0</td>\n",
       "      <td>Best 4 BHK Apartment for modern-day lifestyle ...</td>\n",
       "      <td>4</td>\n",
       "      <td>Yes</td>\n",
       "    </tr>\n",
       "    <tr>\n",
       "      <th>1</th>\n",
       "      <td>Ramanathan Nagar, Pozhichalur,Chennai</td>\n",
       "      <td>10 BHK Independent House for sale in Pozhichal...</td>\n",
       "      <td>₹2.25 Cr</td>\n",
       "      <td>Ramanathan Nagar, Pozhichalur,Chennai</td>\n",
       "      <td>7000</td>\n",
       "      <td>3210.0</td>\n",
       "      <td>Looking for a 10 BHK Independent House for sal...</td>\n",
       "      <td>6</td>\n",
       "      <td>Yes</td>\n",
       "    </tr>\n",
       "    <tr>\n",
       "      <th>2</th>\n",
       "      <td>DAC Prapthi</td>\n",
       "      <td>3 BHK Flat for sale in West Tambaram, Chennai</td>\n",
       "      <td>₹1.0 Cr</td>\n",
       "      <td>Kasthuribai Nagar, West Tambaram,Chennai</td>\n",
       "      <td>1320</td>\n",
       "      <td>7580.0</td>\n",
       "      <td>Property for sale in Tambaram, Chennai. This 3...</td>\n",
       "      <td>3</td>\n",
       "      <td>No</td>\n",
       "    </tr>\n",
       "    <tr>\n",
       "      <th>3</th>\n",
       "      <td>Naveenilaya,Chepauk, Triplicane,Chennai</td>\n",
       "      <td>7 BHK Independent House for sale in Triplicane...</td>\n",
       "      <td>₹3.33 Cr</td>\n",
       "      <td>Naveenilaya,Chepauk, Triplicane,Chennai</td>\n",
       "      <td>4250</td>\n",
       "      <td>7840.0</td>\n",
       "      <td>Entire Building for sale with 7 units of singl...</td>\n",
       "      <td>5</td>\n",
       "      <td>Yes</td>\n",
       "    </tr>\n",
       "    <tr>\n",
       "      <th>4</th>\n",
       "      <td>VGN Spring Field Phase 1</td>\n",
       "      <td>2 BHK Flat for sale in Avadi, Chennai</td>\n",
       "      <td>₹48.0 L</td>\n",
       "      <td>Avadi, Chennai</td>\n",
       "      <td>960</td>\n",
       "      <td>5000.0</td>\n",
       "      <td>Property for sale in Avadi, Chennai. This 2 BH...</td>\n",
       "      <td>3</td>\n",
       "      <td>Yes</td>\n",
       "    </tr>\n",
       "  </tbody>\n",
       "</table>\n",
       "</div>"
      ],
      "text/plain": [
       "                                      Name  \\\n",
       "0                         Casagrand ECR 14   \n",
       "1    Ramanathan Nagar, Pozhichalur,Chennai   \n",
       "2                              DAC Prapthi   \n",
       "3  Naveenilaya,Chepauk, Triplicane,Chennai   \n",
       "4                 VGN Spring Field Phase 1   \n",
       "\n",
       "                                      Property Title     Price  \\\n",
       "0  4 BHK Flat for sale in Kanathur Reddikuppam, C...  ₹1.99 Cr   \n",
       "1  10 BHK Independent House for sale in Pozhichal...  ₹2.25 Cr   \n",
       "2      3 BHK Flat for sale in West Tambaram, Chennai   ₹1.0 Cr   \n",
       "3  7 BHK Independent House for sale in Triplicane...  ₹3.33 Cr   \n",
       "4              2 BHK Flat for sale in Avadi, Chennai   ₹48.0 L   \n",
       "\n",
       "                                   Location  Total_Area  Price_per_SQFT  \\\n",
       "0             Kanathur Reddikuppam, Chennai        2583          7700.0   \n",
       "1     Ramanathan Nagar, Pozhichalur,Chennai        7000          3210.0   \n",
       "2  Kasthuribai Nagar, West Tambaram,Chennai        1320          7580.0   \n",
       "3   Naveenilaya,Chepauk, Triplicane,Chennai        4250          7840.0   \n",
       "4                            Avadi, Chennai         960          5000.0   \n",
       "\n",
       "                                         Description  Baths Balcony  \n",
       "0  Best 4 BHK Apartment for modern-day lifestyle ...      4     Yes  \n",
       "1  Looking for a 10 BHK Independent House for sal...      6     Yes  \n",
       "2  Property for sale in Tambaram, Chennai. This 3...      3      No  \n",
       "3  Entire Building for sale with 7 units of singl...      5     Yes  \n",
       "4  Property for sale in Avadi, Chennai. This 2 BH...      3     Yes  "
      ]
     },
     "execution_count": 2,
     "metadata": {},
     "output_type": "execute_result"
    }
   ],
   "source": [
    "df = pd.read_csv(\"real-estate-india.csv\")\n",
    "df.head()"
   ]
  },
  {
   "cell_type": "code",
   "execution_count": 3,
   "metadata": {},
   "outputs": [
    {
     "data": {
      "text/html": [
       "<div>\n",
       "<style scoped>\n",
       "    .dataframe tbody tr th:only-of-type {\n",
       "        vertical-align: middle;\n",
       "    }\n",
       "\n",
       "    .dataframe tbody tr th {\n",
       "        vertical-align: top;\n",
       "    }\n",
       "\n",
       "    .dataframe thead th {\n",
       "        text-align: right;\n",
       "    }\n",
       "</style>\n",
       "<table border=\"1\" class=\"dataframe\">\n",
       "  <thead>\n",
       "    <tr style=\"text-align: right;\">\n",
       "      <th></th>\n",
       "      <th>Total_Area</th>\n",
       "      <th>Price_per_SQFT</th>\n",
       "      <th>Baths</th>\n",
       "    </tr>\n",
       "  </thead>\n",
       "  <tbody>\n",
       "    <tr>\n",
       "      <th>count</th>\n",
       "      <td>14528.000000</td>\n",
       "      <td>14528.000000</td>\n",
       "      <td>14528.000000</td>\n",
       "    </tr>\n",
       "    <tr>\n",
       "      <th>mean</th>\n",
       "      <td>1297.916988</td>\n",
       "      <td>11719.456222</td>\n",
       "      <td>2.751239</td>\n",
       "    </tr>\n",
       "    <tr>\n",
       "      <th>std</th>\n",
       "      <td>1245.694305</td>\n",
       "      <td>49036.068632</td>\n",
       "      <td>0.898243</td>\n",
       "    </tr>\n",
       "    <tr>\n",
       "      <th>min</th>\n",
       "      <td>70.000000</td>\n",
       "      <td>0.000000</td>\n",
       "      <td>1.000000</td>\n",
       "    </tr>\n",
       "    <tr>\n",
       "      <th>25%</th>\n",
       "      <td>650.000000</td>\n",
       "      <td>4480.000000</td>\n",
       "      <td>2.000000</td>\n",
       "    </tr>\n",
       "    <tr>\n",
       "      <th>50%</th>\n",
       "      <td>1000.000000</td>\n",
       "      <td>6050.000000</td>\n",
       "      <td>3.000000</td>\n",
       "    </tr>\n",
       "    <tr>\n",
       "      <th>75%</th>\n",
       "      <td>1439.000000</td>\n",
       "      <td>9312.500000</td>\n",
       "      <td>3.000000</td>\n",
       "    </tr>\n",
       "    <tr>\n",
       "      <th>max</th>\n",
       "      <td>35000.000000</td>\n",
       "      <td>999000.000000</td>\n",
       "      <td>6.000000</td>\n",
       "    </tr>\n",
       "  </tbody>\n",
       "</table>\n",
       "</div>"
      ],
      "text/plain": [
       "         Total_Area  Price_per_SQFT         Baths\n",
       "count  14528.000000    14528.000000  14528.000000\n",
       "mean    1297.916988    11719.456222      2.751239\n",
       "std     1245.694305    49036.068632      0.898243\n",
       "min       70.000000        0.000000      1.000000\n",
       "25%      650.000000     4480.000000      2.000000\n",
       "50%     1000.000000     6050.000000      3.000000\n",
       "75%     1439.000000     9312.500000      3.000000\n",
       "max    35000.000000   999000.000000      6.000000"
      ]
     },
     "execution_count": 3,
     "metadata": {},
     "output_type": "execute_result"
    }
   ],
   "source": [
    "df.describe()"
   ]
  },
  {
   "cell_type": "code",
   "execution_count": 5,
   "metadata": {},
   "outputs": [
    {
     "data": {
      "text/plain": [
       "(14528, 9)"
      ]
     },
     "execution_count": 5,
     "metadata": {},
     "output_type": "execute_result"
    }
   ],
   "source": [
    "df.shape"
   ]
  },
  {
   "cell_type": "code",
   "execution_count": 6,
   "metadata": {},
   "outputs": [
    {
     "data": {
      "text/plain": [
       "Index(['Name', 'Property Title', 'Price', 'Location', 'Total_Area',\n",
       "       'Price_per_SQFT', 'Description', 'Baths', 'Balcony'],\n",
       "      dtype='object')"
      ]
     },
     "execution_count": 6,
     "metadata": {},
     "output_type": "execute_result"
    }
   ],
   "source": [
    "df.columns"
   ]
  },
  {
   "cell_type": "code",
   "execution_count": 8,
   "metadata": {},
   "outputs": [
    {
     "name": "stdout",
     "output_type": "stream",
     "text": [
      "<class 'pandas.core.frame.DataFrame'>\n",
      "RangeIndex: 14528 entries, 0 to 14527\n",
      "Data columns (total 9 columns):\n",
      " #   Column          Non-Null Count  Dtype  \n",
      "---  ------          --------------  -----  \n",
      " 0   Name            14528 non-null  object \n",
      " 1   Property Title  14528 non-null  object \n",
      " 2   Price           14528 non-null  object \n",
      " 3   Location        14528 non-null  object \n",
      " 4   Total_Area      14528 non-null  int64  \n",
      " 5   Price_per_SQFT  14528 non-null  float64\n",
      " 6   Description     14528 non-null  object \n",
      " 7   Baths           14528 non-null  int64  \n",
      " 8   Balcony         14528 non-null  object \n",
      "dtypes: float64(1), int64(2), object(6)\n",
      "memory usage: 1021.6+ KB\n"
     ]
    }
   ],
   "source": [
    "df.info()"
   ]
  },
  {
   "cell_type": "markdown",
   "metadata": {},
   "source": [
    "### Data cleaning"
   ]
  },
  {
   "cell_type": "code",
   "execution_count": 9,
   "metadata": {},
   "outputs": [],
   "source": [
    "# Dropping irrelevant columns\n",
    "df = df.drop(columns=[\"Name\", \"Property Title\", \"Description\"])"
   ]
  },
  {
   "cell_type": "code",
   "execution_count": 10,
   "metadata": {},
   "outputs": [
    {
     "data": {
      "text/html": [
       "<div>\n",
       "<style scoped>\n",
       "    .dataframe tbody tr th:only-of-type {\n",
       "        vertical-align: middle;\n",
       "    }\n",
       "\n",
       "    .dataframe tbody tr th {\n",
       "        vertical-align: top;\n",
       "    }\n",
       "\n",
       "    .dataframe thead th {\n",
       "        text-align: right;\n",
       "    }\n",
       "</style>\n",
       "<table border=\"1\" class=\"dataframe\">\n",
       "  <thead>\n",
       "    <tr style=\"text-align: right;\">\n",
       "      <th></th>\n",
       "      <th>Price</th>\n",
       "      <th>Location</th>\n",
       "      <th>Total_Area</th>\n",
       "      <th>Price_per_SQFT</th>\n",
       "      <th>Baths</th>\n",
       "      <th>Balcony</th>\n",
       "    </tr>\n",
       "  </thead>\n",
       "  <tbody>\n",
       "    <tr>\n",
       "      <th>0</th>\n",
       "      <td>₹1.99 Cr</td>\n",
       "      <td>Kanathur Reddikuppam, Chennai</td>\n",
       "      <td>2583</td>\n",
       "      <td>7700.0</td>\n",
       "      <td>4</td>\n",
       "      <td>Yes</td>\n",
       "    </tr>\n",
       "    <tr>\n",
       "      <th>1</th>\n",
       "      <td>₹2.25 Cr</td>\n",
       "      <td>Ramanathan Nagar, Pozhichalur,Chennai</td>\n",
       "      <td>7000</td>\n",
       "      <td>3210.0</td>\n",
       "      <td>6</td>\n",
       "      <td>Yes</td>\n",
       "    </tr>\n",
       "  </tbody>\n",
       "</table>\n",
       "</div>"
      ],
      "text/plain": [
       "      Price                               Location  Total_Area  \\\n",
       "0  ₹1.99 Cr          Kanathur Reddikuppam, Chennai        2583   \n",
       "1  ₹2.25 Cr  Ramanathan Nagar, Pozhichalur,Chennai        7000   \n",
       "\n",
       "   Price_per_SQFT  Baths Balcony  \n",
       "0          7700.0      4     Yes  \n",
       "1          3210.0      6     Yes  "
      ]
     },
     "execution_count": 10,
     "metadata": {},
     "output_type": "execute_result"
    }
   ],
   "source": [
    "df.head(2)"
   ]
  },
  {
   "cell_type": "code",
   "execution_count": 11,
   "metadata": {},
   "outputs": [
    {
     "data": {
      "text/plain": [
       "Price             0\n",
       "Location          0\n",
       "Total_Area        0\n",
       "Price_per_SQFT    0\n",
       "Baths             0\n",
       "Balcony           0\n",
       "dtype: int64"
      ]
     },
     "execution_count": 11,
     "metadata": {},
     "output_type": "execute_result"
    }
   ],
   "source": [
    "# Check for missing values\n",
    "df.isnull().sum()"
   ]
  },
  {
   "cell_type": "code",
   "execution_count": null,
   "metadata": {},
   "outputs": [],
   "source": [
    "# Only if there are missing values\n",
    "'''\n",
    "# Fill missing values in 'Baths' and 'Balcony' with the median of the column\n",
    "df['Baths'].fillna(df['Baths'].median(), inplace=True)\n",
    "df['Balcony'].fillna(df['Balcony'].median(), inplace=True)\n",
    "\n",
    "# If there are any missing values in the target variable 'Price', drop those rows\n",
    "df = df.dropna(subset=['Price'])\n",
    "'''"
   ]
  }
 ],
 "metadata": {
  "kernelspec": {
   "display_name": "env",
   "language": "python",
   "name": "python3"
  },
  "language_info": {
   "codemirror_mode": {
    "name": "ipython",
    "version": 3
   },
   "file_extension": ".py",
   "mimetype": "text/x-python",
   "name": "python",
   "nbconvert_exporter": "python",
   "pygments_lexer": "ipython3",
   "version": "3.12.2"
  }
 },
 "nbformat": 4,
 "nbformat_minor": 2
}
