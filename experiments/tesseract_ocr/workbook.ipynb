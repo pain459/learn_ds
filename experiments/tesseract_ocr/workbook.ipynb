{
 "cells": [
  {
   "cell_type": "code",
   "execution_count": null,
   "metadata": {},
   "outputs": [],
   "source": [
    "import pytesseract\n",
    "from PIL import Image\n",
    "\n",
    "# # For Windows: specify the path to the tesseract executable\n",
    "# pytesseract.pytesseract.tesseract_cmd = r\"C:\\Program Files\\Tesseract-OCR\\tesseract.exe\"\n",
    "\n",
    "# Load the image from which you want to extract text\n",
    "image_path = 'your_image_file.png'  # replace with your image file path\n",
    "image = Image.open(image_path)\n",
    "\n",
    "# Extract text from the image\n",
    "text = pytesseract.image_to_string(image)\n",
    "\n",
    "# Print the extracted text\n",
    "print(text)\n"
   ]
  }
 ],
 "metadata": {
  "kernelspec": {
   "display_name": "env",
   "language": "python",
   "name": "python3"
  },
  "language_info": {
   "name": "python",
   "version": "3.12.7"
  }
 },
 "nbformat": 4,
 "nbformat_minor": 2
}
