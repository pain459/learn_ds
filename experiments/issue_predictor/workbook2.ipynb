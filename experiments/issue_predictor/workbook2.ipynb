{
 "cells": [
  {
   "cell_type": "code",
   "execution_count": 1,
   "metadata": {},
   "outputs": [],
   "source": [
    "import pandas as pd\n",
    "from sklearn.model_selection import train_test_split\n",
    "from sklearn.preprocessing import LabelEncoder\n",
    "import torch\n",
    "from transformers import BertTokenizer, BertForSequenceClassification, Trainer, TrainingArguments\n",
    "from datasets import Dataset"
   ]
  },
  {
   "cell_type": "code",
   "execution_count": 2,
   "metadata": {},
   "outputs": [],
   "source": [
    "# Sample dataset with descriptions and issues (expand this with more data as needed)\n",
    "data = {\n",
    "    'issue': [\n",
    "        'printer error', 'printer error', 'printer error',\n",
    "        'network failure', 'network failure', 'network failure',\n",
    "        'authentication issue', 'authentication issue', 'authentication issue',\n",
    "        'software crash', 'software crash', 'software crash',\n",
    "        'hardware failure', 'hardware failure', 'hardware failure'\n",
    "    ],\n",
    "    'description': [\n",
    "        'Printer is not responding and unable to print',\n",
    "        'The printer is printing incorrectly and skipping pages',\n",
    "        'Printer shows error message and stops working',\n",
    "        \n",
    "        'Unable to connect to the network, no internet access',\n",
    "        'Internet connection is very slow and dropping frequently',\n",
    "        'Cannot connect to Wi-Fi, keeps disconnecting',\n",
    "\n",
    "        'Cannot log in to the account, shows invalid credentials',\n",
    "        'Authentication fails and password is incorrect',\n",
    "        'Login issues with system, authentication error',\n",
    "\n",
    "        'The software crashes and exits unexpectedly',\n",
    "        'Application becomes unresponsive and shuts down',\n",
    "        'Software closes suddenly with error message',\n",
    "\n",
    "        'The computer hardware is malfunctioning and not responding',\n",
    "        'The device hardware stops working, unresponsive keys',\n",
    "        'Hardware failure detected, system is not working'\n",
    "    ]\n",
    "}"
   ]
  },
  {
   "cell_type": "code",
   "execution_count": 3,
   "metadata": {},
   "outputs": [],
   "source": [
    "# Convert the data to a DataFrame\n",
    "df = pd.DataFrame(data)"
   ]
  },
  {
   "cell_type": "code",
   "execution_count": 4,
   "metadata": {},
   "outputs": [],
   "source": [
    "# Step 1: Encode the labels (issue categories)\n",
    "label_encoder = LabelEncoder()\n",
    "df['issue_encoded'] = label_encoder.fit_transform(df['issue'])"
   ]
  },
  {
   "cell_type": "code",
   "execution_count": 5,
   "metadata": {},
   "outputs": [],
   "source": [
    "# Step 2: Train/Test Split\n",
    "train_texts, val_texts, train_labels, val_labels = train_test_split(\n",
    "    df['description'].tolist(), df['issue_encoded'].tolist(), test_size=0.2, random_state=42\n",
    ")"
   ]
  },
  {
   "cell_type": "code",
   "execution_count": 6,
   "metadata": {},
   "outputs": [],
   "source": [
    "# Step 3: Load Pre-trained BERT Tokenizer\n",
    "tokenizer = BertTokenizer.from_pretrained('bert-base-uncased')"
   ]
  },
  {
   "cell_type": "code",
   "execution_count": 7,
   "metadata": {},
   "outputs": [],
   "source": [
    "# Tokenize the text data\n",
    "train_encodings = tokenizer(train_texts, truncation=True, padding=True, return_tensors=\"pt\")\n",
    "val_encodings = tokenizer(val_texts, truncation=True, padding=True, return_tensors=\"pt\")"
   ]
  },
  {
   "cell_type": "code",
   "execution_count": 8,
   "metadata": {},
   "outputs": [],
   "source": [
    "# Step 4: Convert the tokenized data into a Dataset object\n",
    "train_dataset = Dataset.from_dict({\n",
    "    'input_ids': train_encodings['input_ids'],\n",
    "    'attention_mask': train_encodings['attention_mask'],\n",
    "    'labels': torch.tensor(train_labels)\n",
    "})\n",
    "\n",
    "val_dataset = Dataset.from_dict({\n",
    "    'input_ids': val_encodings['input_ids'],\n",
    "    'attention_mask': val_encodings['attention_mask'],\n",
    "    'labels': torch.tensor(val_labels)\n",
    "})"
   ]
  },
  {
   "cell_type": "code",
   "execution_count": 9,
   "metadata": {},
   "outputs": [
    {
     "name": "stderr",
     "output_type": "stream",
     "text": [
      "Some weights of BertForSequenceClassification were not initialized from the model checkpoint at bert-base-uncased and are newly initialized: ['classifier.bias', 'classifier.weight']\n",
      "You should probably TRAIN this model on a down-stream task to be able to use it for predictions and inference.\n"
     ]
    }
   ],
   "source": [
    "# Step 5: Load Pre-trained BERT Model for Sequence Classification\n",
    "num_classes = len(df['issue_encoded'].unique())  # Number of unique labels\n",
    "model = BertForSequenceClassification.from_pretrained('bert-base-uncased', num_labels=num_classes)"
   ]
  },
  {
   "cell_type": "code",
   "execution_count": 10,
   "metadata": {},
   "outputs": [
    {
     "name": "stderr",
     "output_type": "stream",
     "text": [
      "/home/ravik/src_git/learn_ds/env/lib/python3.12/site-packages/transformers/training_args.py:1545: FutureWarning: `evaluation_strategy` is deprecated and will be removed in version 4.46 of 🤗 Transformers. Use `eval_strategy` instead\n",
      "  warnings.warn(\n"
     ]
    }
   ],
   "source": [
    "# Step 6: Define Training Arguments\n",
    "training_args = TrainingArguments(\n",
    "    output_dir='./results',          # output directory\n",
    "    evaluation_strategy=\"epoch\",     # evaluate every epoch\n",
    "    per_device_train_batch_size=8,   # batch size for training\n",
    "    per_device_eval_batch_size=8,    # batch size for evaluation\n",
    "    num_train_epochs=3,              # number of training epochs\n",
    "    logging_dir='./logs',            # directory for storing logs\n",
    "    logging_steps=10,\n",
    ")"
   ]
  },
  {
   "cell_type": "code",
   "execution_count": 11,
   "metadata": {},
   "outputs": [],
   "source": [
    "# Step 7: Initialize Trainer\n",
    "trainer = Trainer(\n",
    "    model=model,\n",
    "    args=training_args,\n",
    "    train_dataset=train_dataset,\n",
    "    eval_dataset=val_dataset\n",
    ")"
   ]
  },
  {
   "cell_type": "code",
   "execution_count": 12,
   "metadata": {},
   "outputs": [
    {
     "data": {
      "text/html": [
       "\n",
       "    <div>\n",
       "      \n",
       "      <progress value='6' max='6' style='width:300px; height:20px; vertical-align: middle;'></progress>\n",
       "      [6/6 00:12, Epoch 3/3]\n",
       "    </div>\n",
       "    <table border=\"1\" class=\"dataframe\">\n",
       "  <thead>\n",
       " <tr style=\"text-align: left;\">\n",
       "      <th>Epoch</th>\n",
       "      <th>Training Loss</th>\n",
       "      <th>Validation Loss</th>\n",
       "    </tr>\n",
       "  </thead>\n",
       "  <tbody>\n",
       "    <tr>\n",
       "      <td>1</td>\n",
       "      <td>No log</td>\n",
       "      <td>1.638040</td>\n",
       "    </tr>\n",
       "    <tr>\n",
       "      <td>2</td>\n",
       "      <td>No log</td>\n",
       "      <td>1.609373</td>\n",
       "    </tr>\n",
       "    <tr>\n",
       "      <td>3</td>\n",
       "      <td>No log</td>\n",
       "      <td>1.625507</td>\n",
       "    </tr>\n",
       "  </tbody>\n",
       "</table><p>"
      ],
      "text/plain": [
       "<IPython.core.display.HTML object>"
      ]
     },
     "metadata": {},
     "output_type": "display_data"
    },
    {
     "data": {
      "text/plain": [
       "TrainOutput(global_step=6, training_loss=1.5876228014628093, metrics={'train_runtime': 19.0239, 'train_samples_per_second': 1.892, 'train_steps_per_second': 0.315, 'total_flos': 240506427096.0, 'train_loss': 1.5876228014628093, 'epoch': 3.0})"
      ]
     },
     "execution_count": 12,
     "metadata": {},
     "output_type": "execute_result"
    }
   ],
   "source": [
    "# Step 8: Train the model\n",
    "trainer.train()"
   ]
  },
  {
   "cell_type": "code",
   "execution_count": 13,
   "metadata": {},
   "outputs": [
    {
     "data": {
      "text/html": [
       "\n",
       "    <div>\n",
       "      \n",
       "      <progress value='1' max='1' style='width:300px; height:20px; vertical-align: middle;'></progress>\n",
       "      [1/1 : < :]\n",
       "    </div>\n",
       "    "
      ],
      "text/plain": [
       "<IPython.core.display.HTML object>"
      ]
     },
     "metadata": {},
     "output_type": "display_data"
    },
    {
     "name": "stdout",
     "output_type": "stream",
     "text": [
      "Evaluation results: {'eval_loss': 1.6255072355270386, 'eval_runtime': 0.4044, 'eval_samples_per_second': 7.418, 'eval_steps_per_second': 2.473, 'epoch': 3.0}\n"
     ]
    }
   ],
   "source": [
    "# Step 9: Evaluate the model\n",
    "eval_results = trainer.evaluate()\n",
    "print(f\"Evaluation results: {eval_results}\")"
   ]
  },
  {
   "cell_type": "code",
   "execution_count": 14,
   "metadata": {},
   "outputs": [],
   "source": [
    "# Step 10: Inference - Test the model with new inputs\n",
    "def predict_issue(input_text):\n",
    "    # Tokenize the input text\n",
    "    inputs = tokenizer(input_text, truncation=True, padding=True, return_tensors=\"pt\")\n",
    "    \n",
    "    # Get the model predictions\n",
    "    outputs = model(**inputs)\n",
    "    \n",
    "    # Convert logits to probabilities\n",
    "    probs = torch.nn.functional.softmax(outputs.logits, dim=-1)\n",
    "    \n",
    "    # Get the predicted class\n",
    "    predicted_class = torch.argmax(probs, dim=1).item()\n",
    "    \n",
    "    # Get the predicted issue label\n",
    "    predicted_label = label_encoder.inverse_transform([predicted_class])[0]\n",
    "    \n",
    "    # Print the predicted issue and probabilities\n",
    "    print(f\"Predicted issue: {predicted_label}\")\n",
    "    print(f\"Probabilities: {probs.detach().numpy()}\")"
   ]
  },
  {
   "cell_type": "code",
   "execution_count": 15,
   "metadata": {},
   "outputs": [
    {
     "name": "stdout",
     "output_type": "stream",
     "text": [
      "Predicted issue: printer error\n",
      "Probabilities: [[0.20034431 0.18646201 0.21011232 0.22858734 0.17449398]]\n"
     ]
    }
   ],
   "source": [
    "# Test the model with a sample input\n",
    "sample_text = \"The printer is not working and showing an error\"\n",
    "predict_issue(sample_text)"
   ]
  },
  {
   "cell_type": "code",
   "execution_count": 16,
   "metadata": {},
   "outputs": [
    {
     "name": "stdout",
     "output_type": "stream",
     "text": [
      "Predicted issue: printer error\n",
      "Probabilities: [[0.21846445 0.17536743 0.206685   0.22315246 0.1763306 ]]\n"
     ]
    }
   ],
   "source": [
    "# Test the model with a sample input\n",
    "sample_text = \"User is unable to submit the print to printer\"\n",
    "predict_issue(sample_text)"
   ]
  },
  {
   "cell_type": "code",
   "execution_count": 17,
   "metadata": {},
   "outputs": [
    {
     "name": "stdout",
     "output_type": "stream",
     "text": [
      "Predicted issue: printer error\n",
      "Probabilities: [[0.22299306 0.17284948 0.20833552 0.22482087 0.17100108]]\n"
     ]
    }
   ],
   "source": [
    "# Test the model with a sample input\n",
    "sample_text = \"User is unable to submit the print from computer\"\n",
    "predict_issue(sample_text)"
   ]
  },
  {
   "cell_type": "code",
   "execution_count": 18,
   "metadata": {},
   "outputs": [
    {
     "name": "stdout",
     "output_type": "stream",
     "text": [
      "Predicted issue: network failure\n",
      "Probabilities: [[0.22994022 0.17139538 0.23454618 0.20097023 0.16314799]]\n"
     ]
    }
   ],
   "source": [
    "# Test the model with a sample input\n",
    "sample_text = \"unable to access print services\"\n",
    "predict_issue(sample_text)"
   ]
  },
  {
   "cell_type": "code",
   "execution_count": null,
   "metadata": {},
   "outputs": [],
   "source": []
  }
 ],
 "metadata": {
  "kernelspec": {
   "display_name": "env",
   "language": "python",
   "name": "python3"
  },
  "language_info": {
   "codemirror_mode": {
    "name": "ipython",
    "version": 3
   },
   "file_extension": ".py",
   "mimetype": "text/x-python",
   "name": "python",
   "nbconvert_exporter": "python",
   "pygments_lexer": "ipython3",
   "version": "3.12.7"
  }
 },
 "nbformat": 4,
 "nbformat_minor": 2
}
