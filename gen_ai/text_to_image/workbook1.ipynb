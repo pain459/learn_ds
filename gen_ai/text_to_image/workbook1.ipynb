{
 "cells": [
  {
   "cell_type": "code",
   "execution_count": 6,
   "metadata": {},
   "outputs": [],
   "source": [
    "import torch\n",
    "from diffusers import StableDiffusionLDM3DPipeline"
   ]
  },
  {
   "cell_type": "code",
   "execution_count": 7,
   "metadata": {},
   "outputs": [
    {
     "name": "stderr",
     "output_type": "stream",
     "text": [
      "The config attributes {'text_encoder_2': ['transformers', 'CLIPTextModelWithProjection'], 'text_encoder_3': ['transformers', 'T5EncoderModel'], 'tokenizer_2': ['transformers', 'CLIPTokenizer'], 'tokenizer_3': ['transformers', 'T5TokenizerFast'], 'transformer': ['diffusers', 'SD3Transformer2DModel']} were passed to StableDiffusionLDM3DPipeline, but are not expected and will be ignored. Please verify your model_index.json configuration file.\n",
      "Keyword arguments {'text_encoder_2': ['transformers', 'CLIPTextModelWithProjection'], 'text_encoder_3': ['transformers', 'T5EncoderModel'], 'tokenizer_2': ['transformers', 'CLIPTokenizer'], 'tokenizer_3': ['transformers', 'T5TokenizerFast'], 'transformer': ['diffusers', 'SD3Transformer2DModel']} are not expected by StableDiffusionLDM3DPipeline and will be ignored.\n"
     ]
    },
    {
     "ename": "AttributeError",
     "evalue": "module 'diffusers' has no attribute 'FlowMatchEulerDiscreteScheduler'",
     "output_type": "error",
     "traceback": [
      "\u001b[0;31m---------------------------------------------------------------------------\u001b[0m",
      "\u001b[0;31mAttributeError\u001b[0m                            Traceback (most recent call last)",
      "Cell \u001b[0;32mIn[7], line 1\u001b[0m\n\u001b[0;32m----> 1\u001b[0m pipe \u001b[38;5;241m=\u001b[39m StableDiffusionLDM3DPipeline\u001b[38;5;241m.\u001b[39mfrom_pretrained(\u001b[38;5;124m\"\u001b[39m\u001b[38;5;124m/home/ravik/src_git/stable-diffusion-3.5-large\u001b[39m\u001b[38;5;124m\"\u001b[39m, torch_dtype\u001b[38;5;241m=\u001b[39mtorch\u001b[38;5;241m.\u001b[39mbfloat16)\n\u001b[1;32m      2\u001b[0m pipe \u001b[38;5;241m=\u001b[39m pipe\u001b[38;5;241m.\u001b[39mto(\u001b[38;5;124m\"\u001b[39m\u001b[38;5;124mcuda\u001b[39m\u001b[38;5;124m\"\u001b[39m)\n",
      "File \u001b[0;32m~/src_git/learn_ds/env/lib/python3.12/site-packages/diffusers/pipelines/pipeline_utils.py:1037\u001b[0m, in \u001b[0;36mDiffusionPipeline.from_pretrained\u001b[0;34m(cls, pretrained_model_name_or_path, **kwargs)\u001b[0m\n\u001b[1;32m   1034\u001b[0m         loaded_sub_model \u001b[38;5;241m=\u001b[39m passed_class_obj[name]\n\u001b[1;32m   1035\u001b[0m     \u001b[38;5;28;01melse\u001b[39;00m:\n\u001b[1;32m   1036\u001b[0m         \u001b[38;5;66;03m# load sub model\u001b[39;00m\n\u001b[0;32m-> 1037\u001b[0m         loaded_sub_model \u001b[38;5;241m=\u001b[39m load_sub_model(\n\u001b[1;32m   1038\u001b[0m             library_name\u001b[38;5;241m=\u001b[39mlibrary_name,\n\u001b[1;32m   1039\u001b[0m             class_name\u001b[38;5;241m=\u001b[39mclass_name,\n\u001b[1;32m   1040\u001b[0m             importable_classes\u001b[38;5;241m=\u001b[39mimportable_classes,\n\u001b[1;32m   1041\u001b[0m             pipelines\u001b[38;5;241m=\u001b[39mpipelines,\n\u001b[1;32m   1042\u001b[0m             is_pipeline_module\u001b[38;5;241m=\u001b[39mis_pipeline_module,\n\u001b[1;32m   1043\u001b[0m             pipeline_class\u001b[38;5;241m=\u001b[39mpipeline_class,\n\u001b[1;32m   1044\u001b[0m             torch_dtype\u001b[38;5;241m=\u001b[39mtorch_dtype,\n\u001b[1;32m   1045\u001b[0m             provider\u001b[38;5;241m=\u001b[39mprovider,\n\u001b[1;32m   1046\u001b[0m             sess_options\u001b[38;5;241m=\u001b[39msess_options,\n\u001b[1;32m   1047\u001b[0m             device_map\u001b[38;5;241m=\u001b[39mdevice_map,\n\u001b[1;32m   1048\u001b[0m             max_memory\u001b[38;5;241m=\u001b[39mmax_memory,\n\u001b[1;32m   1049\u001b[0m             offload_folder\u001b[38;5;241m=\u001b[39moffload_folder,\n\u001b[1;32m   1050\u001b[0m             offload_state_dict\u001b[38;5;241m=\u001b[39moffload_state_dict,\n\u001b[1;32m   1051\u001b[0m             model_variants\u001b[38;5;241m=\u001b[39mmodel_variants,\n\u001b[1;32m   1052\u001b[0m             name\u001b[38;5;241m=\u001b[39mname,\n\u001b[1;32m   1053\u001b[0m             from_flax\u001b[38;5;241m=\u001b[39mfrom_flax,\n\u001b[1;32m   1054\u001b[0m             variant\u001b[38;5;241m=\u001b[39mvariant,\n\u001b[1;32m   1055\u001b[0m             low_cpu_mem_usage\u001b[38;5;241m=\u001b[39mlow_cpu_mem_usage,\n\u001b[1;32m   1056\u001b[0m             cached_folder\u001b[38;5;241m=\u001b[39mcached_folder,\n\u001b[1;32m   1057\u001b[0m         )\n\u001b[1;32m   1059\u001b[0m     init_kwargs[name] \u001b[38;5;241m=\u001b[39m loaded_sub_model  \u001b[38;5;66;03m# UNet(...), # DiffusionSchedule(...)\u001b[39;00m\n\u001b[1;32m   1061\u001b[0m \u001b[38;5;66;03m# 7. Potentially add passed objects if expected\u001b[39;00m\n",
      "File \u001b[0;32m~/src_git/learn_ds/env/lib/python3.12/site-packages/diffusers/pipelines/pipeline_utils.py:369\u001b[0m, in \u001b[0;36mload_sub_model\u001b[0;34m(library_name, class_name, importable_classes, pipelines, is_pipeline_module, pipeline_class, torch_dtype, provider, sess_options, device_map, max_memory, offload_folder, offload_state_dict, model_variants, name, from_flax, variant, low_cpu_mem_usage, cached_folder)\u001b[0m\n\u001b[1;32m    367\u001b[0m \u001b[38;5;250m\u001b[39m\u001b[38;5;124;03m\"\"\"Helper method to load the module `name` from `library_name` and `class_name`\"\"\"\u001b[39;00m\n\u001b[1;32m    368\u001b[0m \u001b[38;5;66;03m# retrieve class candidates\u001b[39;00m\n\u001b[0;32m--> 369\u001b[0m class_obj, class_candidates \u001b[38;5;241m=\u001b[39m get_class_obj_and_candidates(\n\u001b[1;32m    370\u001b[0m     library_name, class_name, importable_classes, pipelines, is_pipeline_module\n\u001b[1;32m    371\u001b[0m )\n\u001b[1;32m    373\u001b[0m load_method_name \u001b[38;5;241m=\u001b[39m \u001b[38;5;28;01mNone\u001b[39;00m\n\u001b[1;32m    374\u001b[0m \u001b[38;5;66;03m# retrive load method name\u001b[39;00m\n",
      "File \u001b[0;32m~/src_git/learn_ds/env/lib/python3.12/site-packages/diffusers/pipelines/pipeline_utils.py:319\u001b[0m, in \u001b[0;36mget_class_obj_and_candidates\u001b[0;34m(library_name, class_name, importable_classes, pipelines, is_pipeline_module)\u001b[0m\n\u001b[1;32m    315\u001b[0m \u001b[38;5;28;01melse\u001b[39;00m:\n\u001b[1;32m    316\u001b[0m     \u001b[38;5;66;03m# else we just import it from the library.\u001b[39;00m\n\u001b[1;32m    317\u001b[0m     library \u001b[38;5;241m=\u001b[39m importlib\u001b[38;5;241m.\u001b[39mimport_module(library_name)\n\u001b[0;32m--> 319\u001b[0m     class_obj \u001b[38;5;241m=\u001b[39m \u001b[38;5;28mgetattr\u001b[39m(library, class_name)\n\u001b[1;32m    320\u001b[0m     class_candidates \u001b[38;5;241m=\u001b[39m {c: \u001b[38;5;28mgetattr\u001b[39m(library, c, \u001b[38;5;28;01mNone\u001b[39;00m) \u001b[38;5;28;01mfor\u001b[39;00m c \u001b[38;5;129;01min\u001b[39;00m importable_classes\u001b[38;5;241m.\u001b[39mkeys()}\n\u001b[1;32m    322\u001b[0m \u001b[38;5;28;01mreturn\u001b[39;00m class_obj, class_candidates\n",
      "\u001b[0;31mAttributeError\u001b[0m: module 'diffusers' has no attribute 'FlowMatchEulerDiscreteScheduler'"
     ]
    }
   ],
   "source": [
    "pipe = StableDiffusionLDM3DPipeline.from_pretrained(\"/home/ravik/src_git/stable-diffusion-3.5-large\", torch_dtype=torch.bfloat16)\n",
    "pipe = pipe.to(\"cuda\")\n"
   ]
  },
  {
   "cell_type": "code",
   "execution_count": null,
   "metadata": {},
   "outputs": [],
   "source": []
  }
 ],
 "metadata": {
  "kernelspec": {
   "display_name": "env",
   "language": "python",
   "name": "python3"
  },
  "language_info": {
   "codemirror_mode": {
    "name": "ipython",
    "version": 3
   },
   "file_extension": ".py",
   "mimetype": "text/x-python",
   "name": "python",
   "nbconvert_exporter": "python",
   "pygments_lexer": "ipython3",
   "version": "3.12.2"
  }
 },
 "nbformat": 4,
 "nbformat_minor": 2
}
