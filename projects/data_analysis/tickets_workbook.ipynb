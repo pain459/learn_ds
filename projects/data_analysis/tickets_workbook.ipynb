{
 "cells": [
  {
   "cell_type": "code",
   "execution_count": 1,
   "metadata": {},
   "outputs": [],
   "source": [
    "import pandas as pd\n",
    "import matplotlib.pylab as plt"
   ]
  },
  {
   "cell_type": "code",
   "execution_count": 2,
   "metadata": {},
   "outputs": [
    {
     "data": {
      "text/html": [
       "<div>\n",
       "<style scoped>\n",
       "    .dataframe tbody tr th:only-of-type {\n",
       "        vertical-align: middle;\n",
       "    }\n",
       "\n",
       "    .dataframe tbody tr th {\n",
       "        vertical-align: top;\n",
       "    }\n",
       "\n",
       "    .dataframe thead th {\n",
       "        text-align: right;\n",
       "    }\n",
       "</style>\n",
       "<table border=\"1\" class=\"dataframe\">\n",
       "  <thead>\n",
       "    <tr style=\"text-align: right;\">\n",
       "      <th></th>\n",
       "      <th>ticket_id</th>\n",
       "      <th>client</th>\n",
       "      <th>service</th>\n",
       "      <th>logged_date</th>\n",
       "      <th>status</th>\n",
       "      <th>time_spent</th>\n",
       "      <th>assignee</th>\n",
       "      <th>logger</th>\n",
       "    </tr>\n",
       "  </thead>\n",
       "  <tbody>\n",
       "    <tr>\n",
       "      <th>0</th>\n",
       "      <td>1000</td>\n",
       "      <td>A</td>\n",
       "      <td>A1</td>\n",
       "      <td>2024-02-10 19:41:00 UTC</td>\n",
       "      <td>closed</td>\n",
       "      <td>5</td>\n",
       "      <td>member1</td>\n",
       "      <td>user1</td>\n",
       "    </tr>\n",
       "    <tr>\n",
       "      <th>1</th>\n",
       "      <td>1001</td>\n",
       "      <td>D</td>\n",
       "      <td>B1</td>\n",
       "      <td>2024-06-03 04:22:00 UTC</td>\n",
       "      <td>closed</td>\n",
       "      <td>5</td>\n",
       "      <td>member3</td>\n",
       "      <td>user3</td>\n",
       "    </tr>\n",
       "  </tbody>\n",
       "</table>\n",
       "</div>"
      ],
      "text/plain": [
       "   ticket_id client service              logged_date  status  time_spent  \\\n",
       "0       1000      A      A1  2024-02-10 19:41:00 UTC  closed           5   \n",
       "1       1001      D      B1  2024-06-03 04:22:00 UTC  closed           5   \n",
       "\n",
       "  assignee logger  \n",
       "0  member1  user1  \n",
       "1  member3  user3  "
      ]
     },
     "execution_count": 2,
     "metadata": {},
     "output_type": "execute_result"
    }
   ],
   "source": [
    "df = pd.read_csv(\"tickets.csv\")\n",
    "df.head(2)"
   ]
  },
  {
   "cell_type": "code",
   "execution_count": 24,
   "metadata": {},
   "outputs": [],
   "source": [
    "# Convert logged_date to datetime\n",
    "df[\"logged_date\"] = pd.to_datetime(df[\"logged_date\"], format=\"%Y-%m-%d %H:%M:%S UTC\")"
   ]
  },
  {
   "cell_type": "code",
   "execution_count": 25,
   "metadata": {},
   "outputs": [
    {
     "name": "stdout",
     "output_type": "stream",
     "text": [
      "Basic Statistics\n",
      "          ticket_id client service                    logged_date  status  \\\n",
      "count   1000.000000   1000    1000                           1000    1000   \n",
      "unique          NaN      5       6                            NaN       3   \n",
      "top             NaN      B      D1                            NaN  closed   \n",
      "freq            NaN    216     187                            NaN     338   \n",
      "mean    1499.500000    NaN     NaN  2024-05-30 21:00:58.679999744     NaN   \n",
      "min     1000.000000    NaN     NaN            2024-01-01 00:01:00     NaN   \n",
      "25%     1249.750000    NaN     NaN            2024-03-18 01:27:45     NaN   \n",
      "50%     1499.500000    NaN     NaN            2024-05-31 17:18:00     NaN   \n",
      "75%     1749.250000    NaN     NaN            2024-08-13 14:23:00     NaN   \n",
      "max     1999.000000    NaN     NaN            2024-10-26 23:08:00     NaN   \n",
      "std      288.819436    NaN     NaN                            NaN     NaN   \n",
      "\n",
      "         time_spent assignee logger  \n",
      "count   1000.000000     1000   1000  \n",
      "unique          NaN        4      4  \n",
      "top             NaN  member2  user3  \n",
      "freq            NaN      260    269  \n",
      "mean       4.488000      NaN    NaN  \n",
      "min        1.000000      NaN    NaN  \n",
      "25%        2.000000      NaN    NaN  \n",
      "50%        4.000000      NaN    NaN  \n",
      "75%        6.000000      NaN    NaN  \n",
      "max        8.000000      NaN    NaN  \n",
      "std        2.288907      NaN    NaN  \n"
     ]
    }
   ],
   "source": [
    "# 1. Basic Statistics\n",
    "print(\"Basic Statistics\")\n",
    "print(df.describe(include=\"all\"))"
   ]
  },
  {
   "cell_type": "code",
   "execution_count": 26,
   "metadata": {},
   "outputs": [
    {
     "name": "stdout",
     "output_type": "stream",
     "text": [
      "\n",
      "Ticket Distribution by Client\n",
      "client\n",
      "B    216\n",
      "C    214\n",
      "A    205\n",
      "E    190\n",
      "D    175\n",
      "Name: count, dtype: int64\n"
     ]
    }
   ],
   "source": [
    "# 2. Ticket Distribution by Client\n",
    "client_dist = df[\"client\"].value_counts()\n",
    "print(\"\\nTicket Distribution by Client\")\n",
    "print(client_dist)"
   ]
  },
  {
   "cell_type": "code",
   "execution_count": 27,
   "metadata": {},
   "outputs": [
    {
     "name": "stdout",
     "output_type": "stream",
     "text": [
      "\n",
      "Service Usage Analysis\n",
      "service\n",
      "D1    187\n",
      "E1    168\n",
      "B1    166\n",
      "F1    165\n",
      "A1    161\n",
      "C1    153\n",
      "Name: count, dtype: int64\n"
     ]
    }
   ],
   "source": [
    "# 3. Service Usage Analysis\n",
    "service_usage = df[\"service\"].value_counts()\n",
    "print(\"\\nService Usage Analysis\")\n",
    "print(service_usage)"
   ]
  },
  {
   "cell_type": "code",
   "execution_count": 28,
   "metadata": {},
   "outputs": [
    {
     "name": "stdout",
     "output_type": "stream",
     "text": [
      "\n",
      "Status Distribution\n",
      "status\n",
      "closed               338\n",
      "awaiting_response    338\n",
      "assigned             324\n",
      "Name: count, dtype: int64\n"
     ]
    }
   ],
   "source": [
    "# 4. Status Distribution\n",
    "status_dist = df[\"status\"].value_counts()\n",
    "print(\"\\nStatus Distribution\")\n",
    "print(status_dist)"
   ]
  },
  {
   "cell_type": "code",
   "execution_count": 29,
   "metadata": {},
   "outputs": [
    {
     "name": "stdout",
     "output_type": "stream",
     "text": [
      "\n",
      "Total Time Spent on Tickets\n",
      "4488\n"
     ]
    }
   ],
   "source": [
    "# 5. Time Spent Analysis\n",
    "print(\"\\nTotal Time Spent on Tickets\")\n",
    "print(df[\"time_spent\"].sum())"
   ]
  },
  {
   "cell_type": "code",
   "execution_count": 30,
   "metadata": {},
   "outputs": [
    {
     "name": "stdout",
     "output_type": "stream",
     "text": [
      "\n",
      "Average Time Spent per Ticket\n",
      "4.488\n"
     ]
    }
   ],
   "source": [
    "print(\"\\nAverage Time Spent per Ticket\")\n",
    "print(df[\"time_spent\"].mean())"
   ]
  },
  {
   "cell_type": "code",
   "execution_count": 31,
   "metadata": {},
   "outputs": [
    {
     "name": "stdout",
     "output_type": "stream",
     "text": [
      "\n",
      "Assignee Workload\n",
      "assignee\n",
      "member2    260\n",
      "member4    259\n",
      "member1    243\n",
      "member3    238\n",
      "Name: count, dtype: int64\n"
     ]
    }
   ],
   "source": [
    "# 6. Assignee Workload\n",
    "assignee_workload = df[\"assignee\"].value_counts()\n",
    "print(\"\\nAssignee Workload\")\n",
    "print(assignee_workload)"
   ]
  },
  {
   "cell_type": "code",
   "execution_count": 32,
   "metadata": {},
   "outputs": [
    {
     "name": "stdout",
     "output_type": "stream",
     "text": [
      "\n",
      "Monthly Ticket Trend\n",
      "month_year\n",
      "2024-01     98\n",
      "2024-02     98\n",
      "2024-03     97\n",
      "2024-04    102\n",
      "2024-05    107\n",
      "2024-06     89\n",
      "2024-07    111\n",
      "2024-08    123\n",
      "2024-09     97\n",
      "2024-10     78\n",
      "Freq: M, Name: count, dtype: int64\n"
     ]
    }
   ],
   "source": [
    "# 7. Monthly Ticket Trend\n",
    "df[\"month_year\"] = df[\"logged_date\"].dt.to_period(\"M\")\n",
    "monthly_trend = df[\"month_year\"].value_counts().sort_index()\n",
    "print(\"\\nMonthly Ticket Trend\")\n",
    "print(monthly_trend)"
   ]
  },
  {
   "cell_type": "code",
   "execution_count": 33,
   "metadata": {},
   "outputs": [
    {
     "name": "stdout",
     "output_type": "stream",
     "text": [
      "\n",
      "Logger Contribution\n",
      "logger\n",
      "user3    269\n",
      "user2    254\n",
      "user4    240\n",
      "user1    237\n",
      "Name: count, dtype: int64\n"
     ]
    }
   ],
   "source": [
    "# 8. Logger Contribution\n",
    "logger_contribution = df[\"logger\"].value_counts()\n",
    "print(\"\\nLogger Contribution\")\n",
    "print(logger_contribution)"
   ]
  },
  {
   "cell_type": "code",
   "execution_count": 34,
   "metadata": {},
   "outputs": [
    {
     "name": "stdout",
     "output_type": "stream",
     "text": [
      "\n",
      "Ticket Distribution by Status and Client\n",
      "client              A   B   C   D   E\n",
      "status                               \n",
      "assigned           71  67  69  58  59\n",
      "awaiting_response  70  70  69  60  69\n",
      "closed             64  79  76  57  62\n"
     ]
    }
   ],
   "source": [
    "# 9. Ticket Distribution by Status and Client\n",
    "status_client_dist = df.groupby([\"status\", \"client\"]).size().unstack(fill_value=0)\n",
    "print(\"\\nTicket Distribution by Status and Client\")\n",
    "print(status_client_dist)"
   ]
  },
  {
   "cell_type": "code",
   "execution_count": 35,
   "metadata": {},
   "outputs": [
    {
     "data": {
      "image/png": "[encoded data removed]",
      "text/plain": [
       "<Figure size 800x400 with 1 Axes>"
      ]
     },
     "metadata": {},
     "output_type": "display_data"
    }
   ],
   "source": [
    "# Visualization: Ticket Distribution by Client\n",
    "plt.figure(figsize=(8, 4))\n",
    "client_dist.plot(kind=\"bar\", title=\"Ticket Distribution by Client\", color=\"skyblue\")\n",
    "plt.xlabel(\"Client\")\n",
    "plt.ylabel(\"Number of Tickets\")\n",
    "plt.grid(axis=\"y\")\n",
    "plt.show()"
   ]
  },
  {
   "cell_type": "code",
   "execution_count": 36,
   "metadata": {},
   "outputs": [
    {
     "data": {
      "image/png": "[encoded data removed]",
      "text/plain": [
       "<Figure size 1000x500 with 1 Axes>"
      ]
     },
     "metadata": {},
     "output_type": "display_data"
    }
   ],
   "source": [
    "# Visualization: Monthly Ticket Trend\n",
    "plt.figure(figsize=(10, 5))\n",
    "monthly_trend.plot(kind=\"line\", marker=\"o\", title=\"Monthly Ticket Trend\", color=\"green\")\n",
    "plt.xlabel(\"Month-Year\")\n",
    "plt.ylabel(\"Number of Tickets\")\n",
    "plt.grid()\n",
    "plt.show()"
   ]
  },
  {
   "cell_type": "code",
   "execution_count": null,
   "metadata": {},
   "outputs": [],
   "source": []
  }
 ],
 "metadata": {
  "kernelspec": {
   "display_name": ".venv",
   "language": "python",
   "name": "python3"
  },
  "language_info": {
   "codemirror_mode": {
    "name": "ipython",
    "version": 3
   },
   "file_extension": ".py",
   "mimetype": "text/x-python",
   "name": "python",
   "nbconvert_exporter": "python",
   "pygments_lexer": "ipython3",
   "version": "3.12.6"
  }
 },
 "nbformat": 4,
 "nbformat_minor": 2
}
