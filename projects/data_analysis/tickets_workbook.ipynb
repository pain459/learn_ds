{
 "cells": [
  {
   "cell_type": "code",
   "execution_count": 1,
   "metadata": {},
   "outputs": [],
   "source": [
    "import pandas as pd"
   ]
  },
  {
   "cell_type": "code",
   "execution_count": 2,
   "metadata": {},
   "outputs": [
    {
     "data": {
      "text/html": [
       "<div>\n",
       "<style scoped>\n",
       "    .dataframe tbody tr th:only-of-type {\n",
       "        vertical-align: middle;\n",
       "    }\n",
       "\n",
       "    .dataframe tbody tr th {\n",
       "        vertical-align: top;\n",
       "    }\n",
       "\n",
       "    .dataframe thead th {\n",
       "        text-align: right;\n",
       "    }\n",
       "</style>\n",
       "<table border=\"1\" class=\"dataframe\">\n",
       "  <thead>\n",
       "    <tr style=\"text-align: right;\">\n",
       "      <th></th>\n",
       "      <th>ticket_id</th>\n",
       "      <th>client</th>\n",
       "      <th>service</th>\n",
       "      <th>logged_date</th>\n",
       "      <th>status</th>\n",
       "      <th>time_spent</th>\n",
       "      <th>assignee</th>\n",
       "      <th>logger</th>\n",
       "    </tr>\n",
       "  </thead>\n",
       "  <tbody>\n",
       "    <tr>\n",
       "      <th>0</th>\n",
       "      <td>1000</td>\n",
       "      <td>B</td>\n",
       "      <td>F1</td>\n",
       "      <td>2024-03-31 15:54:00 UTC</td>\n",
       "      <td>awaiting_response</td>\n",
       "      <td>8</td>\n",
       "      <td>member4</td>\n",
       "      <td>user2</td>\n",
       "    </tr>\n",
       "    <tr>\n",
       "      <th>1</th>\n",
       "      <td>1001</td>\n",
       "      <td>A</td>\n",
       "      <td>C1</td>\n",
       "      <td>2024-10-23 13:53:00 UTC</td>\n",
       "      <td>assigned</td>\n",
       "      <td>8</td>\n",
       "      <td>member4</td>\n",
       "      <td>user3</td>\n",
       "    </tr>\n",
       "  </tbody>\n",
       "</table>\n",
       "</div>"
      ],
      "text/plain": [
       "   ticket_id client service              logged_date             status  \\\n",
       "0       1000      B      F1  2024-03-31 15:54:00 UTC  awaiting_response   \n",
       "1       1001      A      C1  2024-10-23 13:53:00 UTC           assigned   \n",
       "\n",
       "   time_spent assignee logger  \n",
       "0           8  member4  user2  \n",
       "1           8  member4  user3  "
      ]
     },
     "execution_count": 2,
     "metadata": {},
     "output_type": "execute_result"
    }
   ],
   "source": [
    "df = pd.read_csv(\"tickets.csv\")\n",
    "df.head(2)"
   ]
  },
  {
   "cell_type": "code",
   "execution_count": 3,
   "metadata": {},
   "outputs": [
    {
     "data": {
      "text/plain": [
       "ticket_id       int64\n",
       "client         object\n",
       "service        object\n",
       "logged_date    object\n",
       "status         object\n",
       "time_spent      int64\n",
       "assignee       object\n",
       "logger         object\n",
       "dtype: object"
      ]
     },
     "execution_count": 3,
     "metadata": {},
     "output_type": "execute_result"
    }
   ],
   "source": [
    "df.dtypes"
   ]
  },
  {
   "cell_type": "code",
   "execution_count": 4,
   "metadata": {},
   "outputs": [
    {
     "data": {
      "text/plain": [
       "ticket_id               int64\n",
       "client                 object\n",
       "service                object\n",
       "logged_date    datetime64[ns]\n",
       "status                 object\n",
       "time_spent              int64\n",
       "assignee               object\n",
       "logger                 object\n",
       "dtype: object"
      ]
     },
     "execution_count": 4,
     "metadata": {},
     "output_type": "execute_result"
    }
   ],
   "source": [
    "df['logged_date'] = pd.to_datetime(df['logged_date'], format=\"%Y-%m-%d %H:%M:%S UTC\")\n",
    "df.dtypes"
   ]
  },
  {
   "cell_type": "code",
   "execution_count": 5,
   "metadata": {},
   "outputs": [
    {
     "data": {
      "text/html": [
       "<div>\n",
       "<style scoped>\n",
       "    .dataframe tbody tr th:only-of-type {\n",
       "        vertical-align: middle;\n",
       "    }\n",
       "\n",
       "    .dataframe tbody tr th {\n",
       "        vertical-align: top;\n",
       "    }\n",
       "\n",
       "    .dataframe thead th {\n",
       "        text-align: right;\n",
       "    }\n",
       "</style>\n",
       "<table border=\"1\" class=\"dataframe\">\n",
       "  <thead>\n",
       "    <tr style=\"text-align: right;\">\n",
       "      <th></th>\n",
       "      <th>ticket_id</th>\n",
       "      <th>client</th>\n",
       "      <th>service</th>\n",
       "      <th>logged_date</th>\n",
       "      <th>status</th>\n",
       "      <th>time_spent</th>\n",
       "      <th>assignee</th>\n",
       "      <th>logger</th>\n",
       "    </tr>\n",
       "  </thead>\n",
       "  <tbody>\n",
       "    <tr>\n",
       "      <th>0</th>\n",
       "      <td>1588</td>\n",
       "      <td>E</td>\n",
       "      <td>E1</td>\n",
       "      <td>2024-01-01 03:35:00</td>\n",
       "      <td>awaiting_response</td>\n",
       "      <td>5</td>\n",
       "      <td>member2</td>\n",
       "      <td>user1</td>\n",
       "    </tr>\n",
       "    <tr>\n",
       "      <th>1</th>\n",
       "      <td>1724</td>\n",
       "      <td>E</td>\n",
       "      <td>A1</td>\n",
       "      <td>2024-01-01 10:29:00</td>\n",
       "      <td>closed</td>\n",
       "      <td>1</td>\n",
       "      <td>member2</td>\n",
       "      <td>user1</td>\n",
       "    </tr>\n",
       "    <tr>\n",
       "      <th>2</th>\n",
       "      <td>1499</td>\n",
       "      <td>D</td>\n",
       "      <td>B1</td>\n",
       "      <td>2024-01-01 10:42:00</td>\n",
       "      <td>closed</td>\n",
       "      <td>7</td>\n",
       "      <td>member3</td>\n",
       "      <td>user4</td>\n",
       "    </tr>\n",
       "    <tr>\n",
       "      <th>3</th>\n",
       "      <td>1256</td>\n",
       "      <td>D</td>\n",
       "      <td>B1</td>\n",
       "      <td>2024-01-01 21:54:00</td>\n",
       "      <td>assigned</td>\n",
       "      <td>2</td>\n",
       "      <td>member3</td>\n",
       "      <td>user3</td>\n",
       "    </tr>\n",
       "    <tr>\n",
       "      <th>4</th>\n",
       "      <td>1254</td>\n",
       "      <td>D</td>\n",
       "      <td>F1</td>\n",
       "      <td>2024-01-02 01:04:00</td>\n",
       "      <td>awaiting_response</td>\n",
       "      <td>6</td>\n",
       "      <td>member4</td>\n",
       "      <td>user1</td>\n",
       "    </tr>\n",
       "  </tbody>\n",
       "</table>\n",
       "</div>"
      ],
      "text/plain": [
       "   ticket_id client service         logged_date             status  \\\n",
       "0       1588      E      E1 2024-01-01 03:35:00  awaiting_response   \n",
       "1       1724      E      A1 2024-01-01 10:29:00             closed   \n",
       "2       1499      D      B1 2024-01-01 10:42:00             closed   \n",
       "3       1256      D      B1 2024-01-01 21:54:00           assigned   \n",
       "4       1254      D      F1 2024-01-02 01:04:00  awaiting_response   \n",
       "\n",
       "   time_spent assignee logger  \n",
       "0           5  member2  user1  \n",
       "1           1  member2  user1  \n",
       "2           7  member3  user4  \n",
       "3           2  member3  user3  \n",
       "4           6  member4  user1  "
      ]
     },
     "execution_count": 5,
     "metadata": {},
     "output_type": "execute_result"
    }
   ],
   "source": [
    "df = df.sort_values(by='logged_date').reset_index(drop=True)\n",
    "df.head()"
   ]
  },
  {
   "cell_type": "code",
   "execution_count": null,
   "metadata": {},
   "outputs": [],
   "source": []
  }
 ],
 "metadata": {
  "kernelspec": {
   "display_name": ".venv",
   "language": "python",
   "name": "python3"
  },
  "language_info": {
   "codemirror_mode": {
    "name": "ipython",
    "version": 3
   },
   "file_extension": ".py",
   "mimetype": "text/x-python",
   "name": "python",
   "nbconvert_exporter": "python",
   "pygments_lexer": "ipython3",
   "version": "3.12.6"
  }
 },
 "nbformat": 4,
 "nbformat_minor": 2
}
