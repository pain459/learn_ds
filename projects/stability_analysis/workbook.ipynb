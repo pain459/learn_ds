{
 "cells": [
  {
   "cell_type": "code",
   "execution_count": 1,
   "metadata": {},
   "outputs": [],
   "source": [
    "import pandas as pd\n",
    "import matplotlib.pyplot as plt\n",
    "import seaborn as sns"
   ]
  },
  {
   "cell_type": "code",
   "execution_count": 2,
   "metadata": {},
   "outputs": [],
   "source": [
    "# for inline plotting in jupyter\n",
    "%matplotlib inline"
   ]
  },
  {
   "cell_type": "code",
   "execution_count": 3,
   "metadata": {},
   "outputs": [],
   "source": [
    "# data import\n",
    "df = pd.read_csv(\"january_incidents.csv\")"
   ]
  },
  {
   "cell_type": "code",
   "execution_count": 4,
   "metadata": {},
   "outputs": [
    {
     "data": {
      "text/html": [
       "<div>\n",
       "<style scoped>\n",
       "    .dataframe tbody tr th:only-of-type {\n",
       "        vertical-align: middle;\n",
       "    }\n",
       "\n",
       "    .dataframe tbody tr th {\n",
       "        vertical-align: top;\n",
       "    }\n",
       "\n",
       "    .dataframe thead th {\n",
       "        text-align: right;\n",
       "    }\n",
       "</style>\n",
       "<table border=\"1\" class=\"dataframe\">\n",
       "  <thead>\n",
       "    <tr style=\"text-align: right;\">\n",
       "      <th></th>\n",
       "      <th>incident_id</th>\n",
       "      <th>time_to_first_symptom</th>\n",
       "      <th>time_to_create</th>\n",
       "      <th>time_to_detect</th>\n",
       "      <th>time_to_mitigate</th>\n",
       "      <th>time_to_close</th>\n",
       "      <th>department</th>\n",
       "      <th>issue_type</th>\n",
       "      <th>time_to_create_minutes</th>\n",
       "      <th>time_to_detect_minutes</th>\n",
       "      <th>time_to_closure_minutes</th>\n",
       "      <th>week_number</th>\n",
       "      <th>day_in_week</th>\n",
       "      <th>quarter_of_year</th>\n",
       "      <th>month_of_year</th>\n",
       "      <th>impacted_clients</th>\n",
       "    </tr>\n",
       "  </thead>\n",
       "  <tbody>\n",
       "    <tr>\n",
       "      <th>0</th>\n",
       "      <td>2025011000</td>\n",
       "      <td>2025-01-01 13:27</td>\n",
       "      <td>2025-01-01 13:56</td>\n",
       "      <td>2025-01-01 14:12</td>\n",
       "      <td>2025-01-01 14:53</td>\n",
       "      <td>2025-01-01 15:34</td>\n",
       "      <td>5</td>\n",
       "      <td>3</td>\n",
       "      <td>29</td>\n",
       "      <td>45</td>\n",
       "      <td>127</td>\n",
       "      <td>1</td>\n",
       "      <td>3</td>\n",
       "      <td>1</td>\n",
       "      <td>1</td>\n",
       "      <td>4;8;9;10</td>\n",
       "    </tr>\n",
       "    <tr>\n",
       "      <th>1</th>\n",
       "      <td>2025011001</td>\n",
       "      <td>2025-01-01 13:44</td>\n",
       "      <td>2025-01-01 13:58</td>\n",
       "      <td>2025-01-01 14:27</td>\n",
       "      <td>2025-01-01 14:44</td>\n",
       "      <td>2025-01-01 16:06</td>\n",
       "      <td>10</td>\n",
       "      <td>4</td>\n",
       "      <td>14</td>\n",
       "      <td>43</td>\n",
       "      <td>142</td>\n",
       "      <td>1</td>\n",
       "      <td>3</td>\n",
       "      <td>1</td>\n",
       "      <td>1</td>\n",
       "      <td>4;8</td>\n",
       "    </tr>\n",
       "    <tr>\n",
       "      <th>2</th>\n",
       "      <td>2025011002</td>\n",
       "      <td>2025-01-01 11:42</td>\n",
       "      <td>2025-01-01 12:03</td>\n",
       "      <td>2025-01-01 12:44</td>\n",
       "      <td>2025-01-01 13:33</td>\n",
       "      <td>2025-01-01 14:12</td>\n",
       "      <td>10</td>\n",
       "      <td>5</td>\n",
       "      <td>21</td>\n",
       "      <td>62</td>\n",
       "      <td>150</td>\n",
       "      <td>1</td>\n",
       "      <td>3</td>\n",
       "      <td>1</td>\n",
       "      <td>1</td>\n",
       "      <td>2;4;5;9</td>\n",
       "    </tr>\n",
       "  </tbody>\n",
       "</table>\n",
       "</div>"
      ],
      "text/plain": [
       "   incident_id time_to_first_symptom    time_to_create    time_to_detect  \\\n",
       "0   2025011000      2025-01-01 13:27  2025-01-01 13:56  2025-01-01 14:12   \n",
       "1   2025011001      2025-01-01 13:44  2025-01-01 13:58  2025-01-01 14:27   \n",
       "2   2025011002      2025-01-01 11:42  2025-01-01 12:03  2025-01-01 12:44   \n",
       "\n",
       "   time_to_mitigate     time_to_close  department  issue_type  \\\n",
       "0  2025-01-01 14:53  2025-01-01 15:34           5           3   \n",
       "1  2025-01-01 14:44  2025-01-01 16:06          10           4   \n",
       "2  2025-01-01 13:33  2025-01-01 14:12          10           5   \n",
       "\n",
       "   time_to_create_minutes  time_to_detect_minutes  time_to_closure_minutes  \\\n",
       "0                      29                      45                      127   \n",
       "1                      14                      43                      142   \n",
       "2                      21                      62                      150   \n",
       "\n",
       "   week_number  day_in_week  quarter_of_year  month_of_year impacted_clients  \n",
       "0            1            3                1              1         4;8;9;10  \n",
       "1            1            3                1              1              4;8  \n",
       "2            1            3                1              1          2;4;5;9  "
      ]
     },
     "execution_count": 4,
     "metadata": {},
     "output_type": "execute_result"
    }
   ],
   "source": [
    "df.head(3)"
   ]
  },
  {
   "cell_type": "code",
   "execution_count": null,
   "metadata": {},
   "outputs": [],
   "source": []
  }
 ],
 "metadata": {
  "kernelspec": {
   "display_name": ".venv",
   "language": "python",
   "name": "python3"
  },
  "language_info": {
   "codemirror_mode": {
    "name": "ipython",
    "version": 3
   },
   "file_extension": ".py",
   "mimetype": "text/x-python",
   "name": "python",
   "nbconvert_exporter": "python",
   "pygments_lexer": "ipython3",
   "version": "3.10.12"
  }
 },
 "nbformat": 4,
 "nbformat_minor": 2
}
