{
 "cells": [
  {
   "cell_type": "code",
   "execution_count": 5,
   "metadata": {},
   "outputs": [],
   "source": [
    "import os\n",
    "import soundfile as sf\n",
    "import whisper"
   ]
  },
  {
   "cell_type": "code",
   "execution_count": 3,
   "metadata": {},
   "outputs": [],
   "source": [
    "# Manually specify the audio file path\n",
    "audio_file = \"song_odia.mp3\""
   ]
  },
  {
   "cell_type": "code",
   "execution_count": 4,
   "metadata": {},
   "outputs": [
    {
     "name": "stdout",
     "output_type": "stream",
     "text": [
      "File 'song_odia.mp3' loaded succesfully.\n",
      "Sample rate: 44100, Channels: 2\n"
     ]
    }
   ],
   "source": [
    "# Check if the file exists\n",
    "if not os.path.exists(audio_file):\n",
    "    print(\"Error: File does not exist. Please check the file path.\")\n",
    "else:\n",
    "    try:\n",
    "        # Read the file to verify its validity\n",
    "        with sf.SoundFile(audio_file) as audio:\n",
    "            print(f\"File '{audio_file}' loaded succesfully.\")\n",
    "            print(f'Sample rate: {audio.samplerate}, Channels: {audio.channels}')\n",
    "    except Exception as e:\n",
    "        print(f'Error loading file: {e}')"
   ]
  },
  {
   "cell_type": "code",
   "execution_count": 10,
   "metadata": {},
   "outputs": [
    {
     "name": "stderr",
     "output_type": "stream",
     "text": [
      "100%|█████████████████████████████████████| 2.88G/2.88G [02:20<00:00, 22.0MiB/s]\n"
     ]
    }
   ],
   "source": [
    "# Load whisper model (smaller model for faster detection)\n",
    "model = whisper.load_model(\"large\")  # medium is actually enough. But we will try with best one."
   ]
  },
  {
   "cell_type": "code",
   "execution_count": 11,
   "metadata": {},
   "outputs": [
    {
     "name": "stdout",
     "output_type": "stream",
     "text": [
      "Detecting Language...\n"
     ]
    }
   ],
   "source": [
    "# Detect language\n",
    "print(\"Detecting Language...\")\n",
    "result = model.transcribe(audio=audio_file, task=\"transcribe\", language=None)\n",
    "detected_lang = result[\"language\"]"
   ]
  },
  {
   "cell_type": "code",
   "execution_count": 12,
   "metadata": {},
   "outputs": [
    {
     "name": "stdout",
     "output_type": "stream",
     "text": [
      "Detected Language: GU\n"
     ]
    }
   ],
   "source": [
    "print(f\"Detected Language: {detected_lang.upper()}\")"
   ]
  },
  {
   "cell_type": "code",
   "execution_count": 13,
   "metadata": {},
   "outputs": [
    {
     "name": "stdout",
     "output_type": "stream",
     "text": [
      "Transcribing and translating to English...\n"
     ]
    }
   ],
   "source": [
    "# Transcribe the audio and force English translation\n",
    "print(\"Transcribing and translating to English...\")\n",
    "result = model.transcribe(audio_file, task=\"translate\")  # Forces English output"
   ]
  },
  {
   "cell_type": "code",
   "execution_count": 14,
   "metadata": {},
   "outputs": [],
   "source": [
    "# Extract the transcribed text\n",
    "transcript_text = result[\"text\"]"
   ]
  },
  {
   "cell_type": "code",
   "execution_count": 15,
   "metadata": {},
   "outputs": [],
   "source": [
    "# Save the transcript to a text file\n",
    "output_file = \"transcript.txt\"\n",
    "with open(output_file, \"w\", encoding=\"utf-8\") as f:\n",
    "    f.write(transcript_text)"
   ]
  },
  {
   "cell_type": "code",
   "execution_count": 16,
   "metadata": {},
   "outputs": [
    {
     "name": "stdout",
     "output_type": "stream",
     "text": [
      "✅ Transcription completed! The transcript is saved as 'transcript.txt'.\n"
     ]
    }
   ],
   "source": [
    "print(f\"✅ Transcription completed! The transcript is saved as '{output_file}'.\")"
   ]
  },
  {
   "cell_type": "code",
   "execution_count": null,
   "metadata": {},
   "outputs": [],
   "source": []
  }
 ],
 "metadata": {
  "kernelspec": {
   "display_name": ".venv",
   "language": "python",
   "name": "python3"
  },
  "language_info": {
   "codemirror_mode": {
    "name": "ipython",
    "version": 3
   },
   "file_extension": ".py",
   "mimetype": "text/x-python",
   "name": "python",
   "nbconvert_exporter": "python",
   "pygments_lexer": "ipython3",
   "version": "3.12.3"
  }
 },
 "nbformat": 4,
 "nbformat_minor": 2
}
