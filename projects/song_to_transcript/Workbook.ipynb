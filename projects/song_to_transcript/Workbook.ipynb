{
 "cells": [
  {
   "cell_type": "code",
   "execution_count": 2,
   "metadata": {},
   "outputs": [],
   "source": [
    "import os\n",
    "import soundfile as sf"
   ]
  },
  {
   "cell_type": "code",
   "execution_count": 3,
   "metadata": {},
   "outputs": [],
   "source": [
    "# Manually specify the audio file path\n",
    "audio_file = \"song_odia.mp3\""
   ]
  },
  {
   "cell_type": "code",
   "execution_count": 4,
   "metadata": {},
   "outputs": [
    {
     "name": "stdout",
     "output_type": "stream",
     "text": [
      "File 'song_odia.mp3' loaded succesfully.\n",
      "Sample rate: 44100, Channels: 2\n"
     ]
    }
   ],
   "source": [
    "# Check if the file exists\n",
    "if not os.path.exists(audio_file):\n",
    "    print(\"Error: File does not exist. Please check the file path.\")\n",
    "else:\n",
    "    try:\n",
    "        # Read the file to verify its validity\n",
    "        with sf.SoundFile(audio_file) as audio:\n",
    "            print(f\"File '{audio_file}' loaded succesfully.\")\n",
    "            print(f'Sample rate: {audio.samplerate}, Channels: {audio.channels}')\n",
    "    except Exception as e:\n",
    "        print(f'Error loading file: {e}')"
   ]
  },
  {
   "cell_type": "code",
   "execution_count": null,
   "metadata": {},
   "outputs": [],
   "source": []
  }
 ],
 "metadata": {
  "kernelspec": {
   "display_name": ".venv",
   "language": "python",
   "name": "python3"
  },
  "language_info": {
   "codemirror_mode": {
    "name": "ipython",
    "version": 3
   },
   "file_extension": ".py",
   "mimetype": "text/x-python",
   "name": "python",
   "nbconvert_exporter": "python",
   "pygments_lexer": "ipython3",
   "version": "3.12.3"
  }
 },
 "nbformat": 4,
 "nbformat_minor": 2
}
