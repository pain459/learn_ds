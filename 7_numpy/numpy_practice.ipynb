{
 "cells": [
  {
   "cell_type": "code",
   "execution_count": 1,
   "metadata": {},
   "outputs": [],
   "source": [
    "import numpy as np"
   ]
  },
  {
   "cell_type": "code",
   "execution_count": 2,
   "metadata": {},
   "outputs": [
    {
     "data": {
      "text/plain": [
       "array([[10,  5,  1],\n",
       "       [ 2, 10,  1],\n",
       "       [ 2,  9, 10],\n",
       "       [ 1,  9,  7],\n",
       "       [ 5,  4,  1]])"
      ]
     },
     "execution_count": 2,
     "metadata": {},
     "output_type": "execute_result"
    }
   ],
   "source": [
    "# generating 2 random matrices and equating them.\n",
    "\n",
    "np.random.seed(seed=10)\n",
    "array_1 = np.random.randint(1, 11, size=(5, 3))\n",
    "array_1"
   ]
  },
  {
   "cell_type": "code",
   "execution_count": 3,
   "metadata": {},
   "outputs": [
    {
     "data": {
      "text/plain": [
       "array([[10,  5,  1],\n",
       "       [ 2, 10,  1],\n",
       "       [ 2,  9, 10],\n",
       "       [ 1,  9,  7],\n",
       "       [ 5,  4,  1]])"
      ]
     },
     "execution_count": 3,
     "metadata": {},
     "output_type": "execute_result"
    }
   ],
   "source": [
    "np.random.seed(seed=10)\n",
    "array_2 = np.random.randint(1, 11, size=(5, 3))\n",
    "array_2"
   ]
  },
  {
   "cell_type": "code",
   "execution_count": 4,
   "metadata": {},
   "outputs": [
    {
     "data": {
      "text/plain": [
       "array([[ True,  True,  True],\n",
       "       [ True,  True,  True],\n",
       "       [ True,  True,  True],\n",
       "       [ True,  True,  True],\n",
       "       [ True,  True,  True]])"
      ]
     },
     "execution_count": 4,
     "metadata": {},
     "output_type": "execute_result"
    }
   ],
   "source": [
    "array_1 == array_2"
   ]
  },
  {
   "cell_type": "code",
   "execution_count": 5,
   "metadata": {},
   "outputs": [
    {
     "data": {
      "text/plain": [
       "array([[ True,  True,  True,  True],\n",
       "       [ True,  True,  True,  True],\n",
       "       [ True,  True,  True,  True],\n",
       "       [ True,  True,  True,  True],\n",
       "       [ True,  True,  True,  True]])"
      ]
     },
     "execution_count": 5,
     "metadata": {},
     "output_type": "execute_result"
    }
   ],
   "source": [
    "# experimenting on the same cell.\n",
    "np.random.seed(seed=13)\n",
    "array_3 = np.random.randint(3, 33, size=(5, 4))\n",
    "np.random.seed(seed=13)\n",
    "array_4 = np.random.randint(3, 33, size=(5, 4))\n",
    "array_3 == array_4"
   ]
  },
  {
   "cell_type": "markdown",
   "metadata": {},
   "source": [
    "#### Slicing arrays"
   ]
  },
  {
   "cell_type": "code",
   "execution_count": 11,
   "metadata": {},
   "outputs": [
    {
     "data": {
      "text/plain": [
       "array([[[[16, 11, 22,  7,  8,  8, 17],\n",
       "         [21, 22, 10, 18,  7, 16, 15],\n",
       "         [ 5, 13, 17, 18, 23,  8,  9],\n",
       "         [ 8,  6,  5, 23, 23, 21, 11],\n",
       "         [18, 14, 18, 21,  5, 19, 20],\n",
       "         [ 6,  9,  5,  9,  6, 16, 17]],\n",
       "\n",
       "        [[10, 16, 24,  9, 16, 16, 20],\n",
       "         [ 5, 15, 11, 11, 18,  8,  7],\n",
       "         [15,  8, 16, 18,  6, 14, 10],\n",
       "         [24, 16,  5, 16, 23, 18, 11],\n",
       "         [23, 24,  7, 11,  9,  5, 21],\n",
       "         [10, 21,  8, 18, 11, 20,  6]],\n",
       "\n",
       "        [[ 9, 17, 10, 15, 14,  7,  9],\n",
       "         [21, 17,  9,  8, 12, 24, 22],\n",
       "         [ 9, 19, 15, 17, 24, 13, 13],\n",
       "         [14, 19,  9, 20,  9,  6, 22],\n",
       "         [16,  9, 24, 23, 16, 17,  5],\n",
       "         [ 6,  9, 11, 10,  7, 15,  5]],\n",
       "\n",
       "        [[22,  7, 15, 23, 21, 22, 15],\n",
       "         [12, 12, 22, 11, 22,  8, 20],\n",
       "         [ 5,  6, 17, 18, 13, 13, 13],\n",
       "         [20, 17, 20, 24, 14, 19, 16],\n",
       "         [20, 19, 10,  6, 20, 24, 23],\n",
       "         [24, 22, 24,  7,  7, 20, 19]],\n",
       "\n",
       "        [[13, 14, 24, 10,  6,  9, 18],\n",
       "         [21, 19, 13, 24, 22,  9, 15],\n",
       "         [ 7, 23, 20,  9,  5, 24, 10],\n",
       "         [ 7,  9,  5,  7, 17,  9, 11],\n",
       "         [23, 23,  6, 10, 24, 19, 18],\n",
       "         [20, 12, 22, 23, 22,  5, 11]]],\n",
       "\n",
       "\n",
       "       [[[11,  9, 13,  6, 23, 23, 12],\n",
       "         [ 5, 22,  5, 14,  5, 18, 20],\n",
       "         [20,  5,  8,  7, 24,  9,  9],\n",
       "         [14, 12, 18, 23, 23,  8, 21],\n",
       "         [24, 20, 22, 11,  6, 13, 11],\n",
       "         [19, 22,  8,  5, 10, 24,  8]],\n",
       "\n",
       "        [[16, 18, 10, 22, 17, 15, 12],\n",
       "         [16, 12,  7,  8, 21,  7, 15],\n",
       "         [10, 15, 18,  8, 19, 20, 21],\n",
       "         [14, 22,  9,  5, 22, 10, 22],\n",
       "         [ 7, 24,  5, 15, 13, 24, 18],\n",
       "         [ 9, 16,  9, 23, 17, 12, 12]],\n",
       "\n",
       "        [[16, 14,  5, 24,  9, 21,  7],\n",
       "         [ 9, 23, 23, 10,  6, 15, 20],\n",
       "         [20,  7,  7, 15, 23, 11,  5],\n",
       "         [16, 14,  8, 14, 13,  7, 16],\n",
       "         [23, 24, 19, 24, 17, 13, 12],\n",
       "         [11,  5, 14, 21, 11, 12, 15]],\n",
       "\n",
       "        [[ 5, 19, 22, 15, 20, 14,  7],\n",
       "         [14,  5,  7, 17, 13, 23,  5],\n",
       "         [14, 19, 17, 14, 17, 21,  8],\n",
       "         [ 5, 22, 21, 11, 20, 15,  5],\n",
       "         [21, 23,  9,  8, 16, 18, 17],\n",
       "         [ 6, 10,  5,  7, 23, 13, 21]],\n",
       "\n",
       "        [[16, 12,  5,  7, 21,  8, 12],\n",
       "         [11, 16, 17,  6, 14, 22, 23],\n",
       "         [ 9, 11, 18,  7, 20, 24, 19],\n",
       "         [ 8,  5, 13, 17, 17, 12,  6],\n",
       "         [22, 16,  8, 12, 14, 10, 14],\n",
       "         [21, 12, 21, 18, 14, 22,  9]]],\n",
       "\n",
       "\n",
       "       [[[ 7, 24,  9, 18,  9, 20, 12],\n",
       "         [11, 24, 17,  6, 14, 23, 23],\n",
       "         [13, 13, 16, 24, 16, 24, 22],\n",
       "         [10,  9, 14, 12, 14, 14,  9],\n",
       "         [21, 14,  7, 23, 12, 21, 14],\n",
       "         [16, 18, 22, 23, 23, 11,  8]],\n",
       "\n",
       "        [[22, 18, 24, 12, 23, 16,  5],\n",
       "         [11,  9, 14,  7, 13,  5, 22],\n",
       "         [19, 12, 18, 24, 17, 14,  9],\n",
       "         [20, 18, 18,  8, 15,  9, 10],\n",
       "         [10, 17,  6, 12, 18, 14, 22],\n",
       "         [16, 21, 22, 13, 16, 12, 16]],\n",
       "\n",
       "        [[24, 22, 15, 21, 21, 19, 23],\n",
       "         [15,  7, 24, 20, 24, 11, 14],\n",
       "         [17, 17, 19, 18,  6, 10, 14],\n",
       "         [ 6, 22, 19, 22, 13, 21,  5],\n",
       "         [23,  8, 24, 14,  5, 24, 22],\n",
       "         [ 9, 11, 17,  5, 21, 16, 20]],\n",
       "\n",
       "        [[24, 21, 18, 17, 10, 13, 10],\n",
       "         [ 9, 20, 20,  8, 22, 15, 10],\n",
       "         [19, 22, 23, 15,  7, 20, 17],\n",
       "         [21, 17, 13,  6, 20, 11, 10],\n",
       "         [11, 20, 15, 17, 14,  6, 12],\n",
       "         [11, 17, 10, 24, 20,  5, 24]],\n",
       "\n",
       "        [[ 8, 10, 11,  7, 13,  5, 10],\n",
       "         [21,  7,  9,  9, 15,  5, 10],\n",
       "         [11, 19, 19,  8, 20, 24,  9],\n",
       "         [ 5, 13,  5, 24, 13, 23,  8],\n",
       "         [11,  9,  6, 21, 13, 12,  9],\n",
       "         [ 9, 14, 24, 15, 22, 18, 11]]],\n",
       "\n",
       "\n",
       "       [[[ 8, 14,  5, 15, 24, 15, 15],\n",
       "         [23, 23, 18, 19, 11, 13, 19],\n",
       "         [14,  7, 20, 11, 22, 17, 12],\n",
       "         [17, 24,  8,  6,  7, 19, 21],\n",
       "         [ 5, 16,  7, 18, 24,  5, 13],\n",
       "         [ 5,  9, 18, 23,  6, 22,  8]],\n",
       "\n",
       "        [[14, 14, 10, 14, 18, 23,  5],\n",
       "         [16, 10, 16, 24, 21, 14, 12],\n",
       "         [19, 17, 19, 16,  9, 15, 14],\n",
       "         [24, 20,  6,  6, 14, 23,  7],\n",
       "         [ 9, 20,  7, 24,  8, 19,  7],\n",
       "         [23, 13, 24, 13, 23, 21, 19]],\n",
       "\n",
       "        [[24, 17, 10, 16,  8,  8, 20],\n",
       "         [13,  7, 21,  9,  7, 22, 11],\n",
       "         [14, 10, 16, 10, 23, 21, 14],\n",
       "         [15, 22, 13, 16, 20, 21, 12],\n",
       "         [13, 11, 10, 21, 10, 13, 22],\n",
       "         [11, 16,  9,  7, 21,  8, 21]],\n",
       "\n",
       "        [[ 5,  8, 24,  6, 20,  9, 17],\n",
       "         [ 8, 23, 22, 13, 11, 12, 15],\n",
       "         [24, 19, 12, 14,  6, 12, 15],\n",
       "         [24, 14, 12,  9,  7,  7, 14],\n",
       "         [11, 17, 21, 24,  9, 17, 17],\n",
       "         [22, 13, 18, 18,  7, 18, 16]],\n",
       "\n",
       "        [[19, 24, 19, 22, 24,  5, 15],\n",
       "         [ 5, 20, 11, 13, 19, 10, 14],\n",
       "         [ 6,  7,  7,  7, 21, 13, 24],\n",
       "         [22, 18, 22, 21,  7, 11, 19],\n",
       "         [19, 19, 11,  5, 15,  5, 15],\n",
       "         [23, 20, 15,  6, 23,  5, 19]]]])"
      ]
     },
     "execution_count": 11,
     "metadata": {},
     "output_type": "execute_result"
    }
   ],
   "source": [
    "# Create a 4D array in the range of (5, 25) with shape (4, 5, 6, 7). Set seed to 12 for reproducability.\n",
    "np.random.seed(12)\n",
    "arr_4d_1 = np.random.randint(5, 25, size=(4, 5, 6, 7))\n",
    "arr_4d_1"
   ]
  },
  {
   "cell_type": "code",
   "execution_count": 14,
   "metadata": {},
   "outputs": [
    {
     "data": {
      "text/plain": [
       "((4, 5, 6, 7), 4)"
      ]
     },
     "execution_count": 14,
     "metadata": {},
     "output_type": "execute_result"
    }
   ],
   "source": [
    "arr_4d_1.shape, arr_4d_1.ndim"
   ]
  },
  {
   "cell_type": "code",
   "execution_count": 17,
   "metadata": {},
   "outputs": [
    {
     "data": {
      "text/plain": [
       "2"
      ]
     },
     "execution_count": 17,
     "metadata": {},
     "output_type": "execute_result"
    }
   ],
   "source": [
    "arr_4d_1[0, 0].ndim"
   ]
  },
  {
   "cell_type": "code",
   "execution_count": 23,
   "metadata": {},
   "outputs": [
    {
     "data": {
      "text/plain": [
       "array([14, 14, 10, 14, 18, 23,  5])"
      ]
     },
     "execution_count": 23,
     "metadata": {},
     "output_type": "execute_result"
    }
   ],
   "source": [
    "# Lets extract [14, 14, 10, 14, 18, 23,  5] from the matrix.\n",
    "arr_4d_1[-1, 1, 0, :]"
   ]
  },
  {
   "cell_type": "code",
   "execution_count": 24,
   "metadata": {},
   "outputs": [
    {
     "data": {
      "text/plain": [
       "(4, 5, 6, 7)"
      ]
     },
     "execution_count": 24,
     "metadata": {},
     "output_type": "execute_result"
    }
   ],
   "source": [
    "# We will now extract the last quadrant of each matric in this 4d matrix.\n",
    "arr_4d_1.shape"
   ]
  },
  {
   "cell_type": "code",
   "execution_count": 29,
   "metadata": {},
   "outputs": [
    {
     "data": {
      "text/plain": [
       "array([[[[19, 20],\n",
       "         [16, 17]],\n",
       "\n",
       "        [[ 5, 21],\n",
       "         [20,  6]],\n",
       "\n",
       "        [[17,  5],\n",
       "         [15,  5]],\n",
       "\n",
       "        [[24, 23],\n",
       "         [20, 19]],\n",
       "\n",
       "        [[19, 18],\n",
       "         [ 5, 11]]],\n",
       "\n",
       "\n",
       "       [[[13, 11],\n",
       "         [24,  8]],\n",
       "\n",
       "        [[24, 18],\n",
       "         [12, 12]],\n",
       "\n",
       "        [[13, 12],\n",
       "         [12, 15]],\n",
       "\n",
       "        [[18, 17],\n",
       "         [13, 21]],\n",
       "\n",
       "        [[10, 14],\n",
       "         [22,  9]]],\n",
       "\n",
       "\n",
       "       [[[21, 14],\n",
       "         [11,  8]],\n",
       "\n",
       "        [[14, 22],\n",
       "         [12, 16]],\n",
       "\n",
       "        [[24, 22],\n",
       "         [16, 20]],\n",
       "\n",
       "        [[ 6, 12],\n",
       "         [ 5, 24]],\n",
       "\n",
       "        [[12,  9],\n",
       "         [18, 11]]],\n",
       "\n",
       "\n",
       "       [[[ 5, 13],\n",
       "         [22,  8]],\n",
       "\n",
       "        [[19,  7],\n",
       "         [21, 19]],\n",
       "\n",
       "        [[13, 22],\n",
       "         [ 8, 21]],\n",
       "\n",
       "        [[17, 17],\n",
       "         [18, 16]],\n",
       "\n",
       "        [[ 5, 15],\n",
       "         [ 5, 19]]]])"
      ]
     },
     "execution_count": 29,
     "metadata": {},
     "output_type": "execute_result"
    }
   ],
   "source": [
    "arr_4d_1[:, :, 4:, 5:]"
   ]
  },
  {
   "cell_type": "code",
   "execution_count": null,
   "metadata": {},
   "outputs": [],
   "source": []
  }
 ],
 "metadata": {
  "kernelspec": {
   "display_name": "Python 3",
   "language": "python",
   "name": "python3"
  },
  "language_info": {
   "codemirror_mode": {
    "name": "ipython",
    "version": 3
   },
   "file_extension": ".py",
   "mimetype": "text/x-python",
   "name": "python",
   "nbconvert_exporter": "python",
   "pygments_lexer": "ipython3",
   "version": "3.12.4"
  }
 },
 "nbformat": 4,
 "nbformat_minor": 2
}
